{
 "cells": [
  {
   "cell_type": "markdown",
   "metadata": {},
   "source": [
    "# Building a Recommendation System using Word2Vec Model\n",
    "\n",
    "### Authors: \n",
    "- Noa Oved, 308033653\n",
    "- Shay Oved, 308033661"
   ]
  },
  {
   "cell_type": "raw",
   "metadata": {},
   "source": [
    "-------------\n",
    "Dataset used:\n",
    "-------------\n",
    "Online Retail II UCI\n",
    "Source: https://www.kaggle.com/mashlyn/online-retail-ii-uci"
   ]
  },
  {
   "cell_type": "markdown",
   "metadata": {},
   "source": [
    "## Import libraries and load data"
   ]
  },
  {
   "cell_type": "code",
   "execution_count": 1,
   "metadata": {},
   "outputs": [],
   "source": [
    "import pandas as pd\n",
    "import numpy as np\n",
    "import random\n",
    "from tqdm import tqdm\n",
    "from gensim.models import Word2Vec \n",
    "import matplotlib.pyplot as plt\n",
    "from time import time  # To time our operations\n",
    "from sklearn.model_selection import train_test_split\n",
    "from sklearn.metrics.pairwise import cosine_similarity\n",
    "%matplotlib inline\n",
    "\n",
    "import warnings;\n",
    "warnings.filterwarnings('ignore')"
   ]
  },
  {
   "cell_type": "code",
   "execution_count": 2,
   "metadata": {},
   "outputs": [],
   "source": [
    "df = pd.read_csv('online_retail.csv')"
   ]
  },
  {
   "cell_type": "markdown",
   "metadata": {},
   "source": [
    "## Explore the data"
   ]
  },
  {
   "cell_type": "markdown",
   "metadata": {},
   "source": [
    "This Online Retail data set contains all purchases made for an online retail company based in the UK between the dates 01/12/2009 and 09/12/2011.\n",
    "The company mainly sells unique all-occasion gift-ware."
   ]
  },
  {
   "cell_type": "code",
   "execution_count": 3,
   "metadata": {},
   "outputs": [
    {
     "data": {
      "text/html": [
       "<div>\n",
       "<style scoped>\n",
       "    .dataframe tbody tr th:only-of-type {\n",
       "        vertical-align: middle;\n",
       "    }\n",
       "\n",
       "    .dataframe tbody tr th {\n",
       "        vertical-align: top;\n",
       "    }\n",
       "\n",
       "    .dataframe thead th {\n",
       "        text-align: right;\n",
       "    }\n",
       "</style>\n",
       "<table border=\"1\" class=\"dataframe\">\n",
       "  <thead>\n",
       "    <tr style=\"text-align: right;\">\n",
       "      <th></th>\n",
       "      <th>Invoice</th>\n",
       "      <th>StockCode</th>\n",
       "      <th>Description</th>\n",
       "      <th>Quantity</th>\n",
       "      <th>InvoiceDate</th>\n",
       "      <th>Price</th>\n",
       "      <th>Customer ID</th>\n",
       "      <th>Country</th>\n",
       "    </tr>\n",
       "  </thead>\n",
       "  <tbody>\n",
       "    <tr>\n",
       "      <th>0</th>\n",
       "      <td>489434</td>\n",
       "      <td>85048</td>\n",
       "      <td>15CM CHRISTMAS GLASS BALL 20 LIGHTS</td>\n",
       "      <td>12</td>\n",
       "      <td>2009-12-01 07:45:00</td>\n",
       "      <td>6.95</td>\n",
       "      <td>13085.0</td>\n",
       "      <td>United Kingdom</td>\n",
       "    </tr>\n",
       "    <tr>\n",
       "      <th>1</th>\n",
       "      <td>489434</td>\n",
       "      <td>79323P</td>\n",
       "      <td>PINK CHERRY LIGHTS</td>\n",
       "      <td>12</td>\n",
       "      <td>2009-12-01 07:45:00</td>\n",
       "      <td>6.75</td>\n",
       "      <td>13085.0</td>\n",
       "      <td>United Kingdom</td>\n",
       "    </tr>\n",
       "    <tr>\n",
       "      <th>2</th>\n",
       "      <td>489434</td>\n",
       "      <td>79323W</td>\n",
       "      <td>WHITE CHERRY LIGHTS</td>\n",
       "      <td>12</td>\n",
       "      <td>2009-12-01 07:45:00</td>\n",
       "      <td>6.75</td>\n",
       "      <td>13085.0</td>\n",
       "      <td>United Kingdom</td>\n",
       "    </tr>\n",
       "    <tr>\n",
       "      <th>3</th>\n",
       "      <td>489434</td>\n",
       "      <td>22041</td>\n",
       "      <td>RECORD FRAME 7\" SINGLE SIZE</td>\n",
       "      <td>48</td>\n",
       "      <td>2009-12-01 07:45:00</td>\n",
       "      <td>2.10</td>\n",
       "      <td>13085.0</td>\n",
       "      <td>United Kingdom</td>\n",
       "    </tr>\n",
       "    <tr>\n",
       "      <th>4</th>\n",
       "      <td>489434</td>\n",
       "      <td>21232</td>\n",
       "      <td>STRAWBERRY CERAMIC TRINKET BOX</td>\n",
       "      <td>24</td>\n",
       "      <td>2009-12-01 07:45:00</td>\n",
       "      <td>1.25</td>\n",
       "      <td>13085.0</td>\n",
       "      <td>United Kingdom</td>\n",
       "    </tr>\n",
       "  </tbody>\n",
       "</table>\n",
       "</div>"
      ],
      "text/plain": [
       "  Invoice StockCode                          Description  Quantity  \\\n",
       "0  489434     85048  15CM CHRISTMAS GLASS BALL 20 LIGHTS        12   \n",
       "1  489434    79323P                   PINK CHERRY LIGHTS        12   \n",
       "2  489434    79323W                  WHITE CHERRY LIGHTS        12   \n",
       "3  489434     22041         RECORD FRAME 7\" SINGLE SIZE         48   \n",
       "4  489434     21232       STRAWBERRY CERAMIC TRINKET BOX        24   \n",
       "\n",
       "           InvoiceDate  Price  Customer ID         Country  \n",
       "0  2009-12-01 07:45:00   6.95      13085.0  United Kingdom  \n",
       "1  2009-12-01 07:45:00   6.75      13085.0  United Kingdom  \n",
       "2  2009-12-01 07:45:00   6.75      13085.0  United Kingdom  \n",
       "3  2009-12-01 07:45:00   2.10      13085.0  United Kingdom  \n",
       "4  2009-12-01 07:45:00   1.25      13085.0  United Kingdom  "
      ]
     },
     "execution_count": 3,
     "metadata": {},
     "output_type": "execute_result"
    }
   ],
   "source": [
    "df.head()"
   ]
  },
  {
   "cell_type": "code",
   "execution_count": 4,
   "metadata": {},
   "outputs": [
    {
     "data": {
      "text/plain": [
       "Invoice         object\n",
       "StockCode       object\n",
       "Description     object\n",
       "Quantity         int64\n",
       "InvoiceDate     object\n",
       "Price          float64\n",
       "Customer ID    float64\n",
       "Country         object\n",
       "dtype: object"
      ]
     },
     "execution_count": 4,
     "metadata": {},
     "output_type": "execute_result"
    }
   ],
   "source": [
    "df.dtypes"
   ]
  },
  {
   "cell_type": "markdown",
   "metadata": {},
   "source": [
    "Given below is the description of the fields in this dataset:\n",
    "\n",
    "1. __Invoice:__ Invoice number. A 6-digit integral number uniquely assigned to each transaction. If this code starts with the letter 'c', it indicates a cancellation.\n",
    "\n",
    "2. __StockCode:__ Product (item) code. A 5-digit integral number uniquely assigned to each distinct product.\n",
    "\n",
    "3. __Description:__ Product (item) description\n",
    "\n",
    "4. __Quantity:__ The quantities of each product (item) per transaction.\n",
    "\n",
    "5. __InvoiceDate:__ Invoice date and time. The day and time when each transaction was generated.\n",
    "\n",
    "6. __Price:__ Unit price. Product price per unit in sterling (Â£)\n",
    "\n",
    "7. __Customer ID:__ Customer number. A 5-digit integral number uniquely assigned to each customer.\n",
    "\n",
    "8. __Country:__ Country name. The name of the country where a customer resides."
   ]
  },
  {
   "cell_type": "code",
   "execution_count": 5,
   "metadata": {},
   "outputs": [
    {
     "data": {
      "text/plain": [
       "(1067371, 8)"
      ]
     },
     "execution_count": 5,
     "metadata": {},
     "output_type": "execute_result"
    }
   ],
   "source": [
    "df.shape"
   ]
  },
  {
   "cell_type": "markdown",
   "metadata": {},
   "source": [
    "The data contains 8 columns and 1,067,371 records."
   ]
  },
  {
   "cell_type": "markdown",
   "metadata": {},
   "source": [
    "## Prepare the data"
   ]
  },
  {
   "cell_type": "markdown",
   "metadata": {},
   "source": [
    "#### Treat Missing Data"
   ]
  },
  {
   "cell_type": "code",
   "execution_count": 7,
   "metadata": {},
   "outputs": [
    {
     "data": {
      "text/plain": [
       "Invoice             0\n",
       "StockCode           0\n",
       "Description      4382\n",
       "Quantity            0\n",
       "InvoiceDate         0\n",
       "Price               0\n",
       "Customer ID    243007\n",
       "Country             0\n",
       "dtype: int64"
      ]
     },
     "execution_count": 7,
     "metadata": {},
     "output_type": "execute_result"
    }
   ],
   "source": [
    "# check for missing values\n",
    "df.isnull().sum()"
   ]
  },
  {
   "cell_type": "markdown",
   "metadata": {},
   "source": [
    "<br>\n",
    "Since we have sufficient data, we will drop all the rows with missing values"
   ]
  },
  {
   "cell_type": "code",
   "execution_count": 8,
   "metadata": {},
   "outputs": [
    {
     "data": {
      "text/plain": [
       "Invoice        0\n",
       "StockCode      0\n",
       "Description    0\n",
       "Quantity       0\n",
       "InvoiceDate    0\n",
       "Price          0\n",
       "Customer ID    0\n",
       "Country        0\n",
       "dtype: int64"
      ]
     },
     "execution_count": 8,
     "metadata": {},
     "output_type": "execute_result"
    }
   ],
   "source": [
    "# remove missing values\n",
    "df.dropna(inplace=True)\n",
    "\n",
    "# again check missing values\n",
    "df.isnull().sum()"
   ]
  },
  {
   "cell_type": "code",
   "execution_count": 9,
   "metadata": {},
   "outputs": [
    {
     "data": {
      "text/plain": [
       "(824364, 8)"
      ]
     },
     "execution_count": 9,
     "metadata": {},
     "output_type": "execute_result"
    }
   ],
   "source": [
    "df.shape"
   ]
  },
  {
   "cell_type": "markdown",
   "metadata": {},
   "source": [
    "#### Remove non-relevant records"
   ]
  },
  {
   "cell_type": "markdown",
   "metadata": {},
   "source": [
    "Remove rows with quantity less than zero- indicates a cancellation"
   ]
  },
  {
   "cell_type": "code",
   "execution_count": 10,
   "metadata": {},
   "outputs": [
    {
     "data": {
      "text/plain": [
       "(805620, 8)"
      ]
     },
     "execution_count": 10,
     "metadata": {},
     "output_type": "execute_result"
    }
   ],
   "source": [
    "df = df[~df['Invoice'].str.contains('C')]\n",
    "df.shape"
   ]
  },
  {
   "cell_type": "markdown",
   "metadata": {},
   "source": [
    "Remove rows that does not describe an item"
   ]
  },
  {
   "cell_type": "code",
   "execution_count": 11,
   "metadata": {},
   "outputs": [
    {
     "data": {
      "text/plain": [
       "(803738, 8)"
      ]
     },
     "execution_count": 11,
     "metadata": {},
     "output_type": "execute_result"
    }
   ],
   "source": [
    "df = df[~(df['StockCode'].str.contains('TEST'))]\n",
    "df = df[~(df['Description'] == 'POSTAGE')]\n",
    "df = df[~(df['StockCode'].str.contains('BANK'))]\n",
    "df.shape"
   ]
  },
  {
   "cell_type": "markdown",
   "metadata": {},
   "source": [
    "## Customers and items"
   ]
  },
  {
   "cell_type": "markdown",
   "metadata": {},
   "source": [
    "The number of unique customers in our dataset"
   ]
  },
  {
   "cell_type": "code",
   "execution_count": 12,
   "metadata": {},
   "outputs": [
    {
     "name": "stdout",
     "output_type": "stream",
     "text": [
      "Number of uniqe users: 5878\n"
     ]
    }
   ],
   "source": [
    "customers = df[\"Customer ID\"].unique().tolist()\n",
    "print('Number of uniqe users:', len(customers))"
   ]
  },
  {
   "cell_type": "markdown",
   "metadata": {},
   "source": [
    "The number of unique transaction in our dataset"
   ]
  },
  {
   "cell_type": "code",
   "execution_count": 13,
   "metadata": {},
   "outputs": [
    {
     "name": "stdout",
     "output_type": "stream",
     "text": [
      "Number of transaction: 36823\n"
     ]
    }
   ],
   "source": [
    "transactions = df[\"Invoice\"].unique().tolist()\n",
    "print('Number of transaction:',len(transactions))"
   ]
  },
  {
   "cell_type": "markdown",
   "metadata": {},
   "source": [
    "The number of unique items in our dataset"
   ]
  },
  {
   "cell_type": "code",
   "execution_count": 14,
   "metadata": {},
   "outputs": [
    {
     "name": "stdout",
     "output_type": "stream",
     "text": [
      "Number of unique items: 4627\n"
     ]
    }
   ],
   "source": [
    "items = df[\"StockCode\"].unique().tolist()\n",
    "print('Number of unique items:',len(items))"
   ]
  },
  {
   "cell_type": "markdown",
   "metadata": {},
   "source": [
    "The most popular items in the dataset"
   ]
  },
  {
   "cell_type": "code",
   "execution_count": 15,
   "metadata": {},
   "outputs": [
    {
     "data": {
      "text/html": [
       "<div>\n",
       "<style scoped>\n",
       "    .dataframe tbody tr th:only-of-type {\n",
       "        vertical-align: middle;\n",
       "    }\n",
       "\n",
       "    .dataframe tbody tr th {\n",
       "        vertical-align: top;\n",
       "    }\n",
       "\n",
       "    .dataframe thead th {\n",
       "        text-align: right;\n",
       "    }\n",
       "</style>\n",
       "<table border=\"1\" class=\"dataframe\">\n",
       "  <thead>\n",
       "    <tr style=\"text-align: right;\">\n",
       "      <th></th>\n",
       "      <th>Description</th>\n",
       "      <th>Count</th>\n",
       "      <th>percentage</th>\n",
       "    </tr>\n",
       "  </thead>\n",
       "  <tbody>\n",
       "    <tr>\n",
       "      <th>5043</th>\n",
       "      <td>WHITE HANGING HEART T-LIGHT HOLDER</td>\n",
       "      <td>5181</td>\n",
       "      <td>0.644613</td>\n",
       "    </tr>\n",
       "    <tr>\n",
       "      <th>3766</th>\n",
       "      <td>REGENCY CAKESTAND 3 TIER</td>\n",
       "      <td>3430</td>\n",
       "      <td>0.426756</td>\n",
       "    </tr>\n",
       "    <tr>\n",
       "      <th>291</th>\n",
       "      <td>ASSORTED COLOUR BIRD ORNAMENT</td>\n",
       "      <td>2777</td>\n",
       "      <td>0.345511</td>\n",
       "    </tr>\n",
       "    <tr>\n",
       "      <th>2390</th>\n",
       "      <td>JUMBO BAG RED RETROSPOT</td>\n",
       "      <td>2702</td>\n",
       "      <td>0.336179</td>\n",
       "    </tr>\n",
       "    <tr>\n",
       "      <th>3841</th>\n",
       "      <td>REX CASH+CARRY JUMBO SHOPPER</td>\n",
       "      <td>2141</td>\n",
       "      <td>0.266380</td>\n",
       "    </tr>\n",
       "    <tr>\n",
       "      <th>3153</th>\n",
       "      <td>PARTY BUNTING</td>\n",
       "      <td>2122</td>\n",
       "      <td>0.264016</td>\n",
       "    </tr>\n",
       "    <tr>\n",
       "      <th>2607</th>\n",
       "      <td>LUNCH BAG  BLACK SKULL.</td>\n",
       "      <td>2117</td>\n",
       "      <td>0.263394</td>\n",
       "    </tr>\n",
       "    <tr>\n",
       "      <th>2620</th>\n",
       "      <td>LUNCH BAG SPACEBOY DESIGN</td>\n",
       "      <td>1941</td>\n",
       "      <td>0.241497</td>\n",
       "    </tr>\n",
       "    <tr>\n",
       "      <th>2244</th>\n",
       "      <td>HOME BUILDING BLOCK WORD</td>\n",
       "      <td>1929</td>\n",
       "      <td>0.240004</td>\n",
       "    </tr>\n",
       "    <tr>\n",
       "      <th>4610</th>\n",
       "      <td>STRAWBERRY CERAMIC TRINKET BOX</td>\n",
       "      <td>1922</td>\n",
       "      <td>0.239133</td>\n",
       "    </tr>\n",
       "  </tbody>\n",
       "</table>\n",
       "</div>"
      ],
      "text/plain": [
       "                             Description  Count  percentage\n",
       "5043  WHITE HANGING HEART T-LIGHT HOLDER   5181    0.644613\n",
       "3766            REGENCY CAKESTAND 3 TIER   3430    0.426756\n",
       "291        ASSORTED COLOUR BIRD ORNAMENT   2777    0.345511\n",
       "2390             JUMBO BAG RED RETROSPOT   2702    0.336179\n",
       "3841        REX CASH+CARRY JUMBO SHOPPER   2141    0.266380\n",
       "3153                       PARTY BUNTING   2122    0.264016\n",
       "2607             LUNCH BAG  BLACK SKULL.   2117    0.263394\n",
       "2620          LUNCH BAG SPACEBOY DESIGN    1941    0.241497\n",
       "2244            HOME BUILDING BLOCK WORD   1929    0.240004\n",
       "4610      STRAWBERRY CERAMIC TRINKET BOX   1922    0.239133"
      ]
     },
     "execution_count": 15,
     "metadata": {},
     "output_type": "execute_result"
    }
   ],
   "source": [
    "item_grouped = df.groupby(['Description']).agg({'StockCode': np.size}).reset_index().sort_values('StockCode', ascending = False)\n",
    "item_grouped.rename(columns= {'StockCode':'Count'}, inplace = True)\n",
    "item_grouped['percentage'] = (item_grouped['Count'] / item_grouped['Count'].sum())* 100\n",
    "item_grouped.head(10)"
   ]
  },
  {
   "cell_type": "markdown",
   "metadata": {},
   "source": [
    "Average number of items in transaction"
   ]
  },
  {
   "cell_type": "code",
   "execution_count": 16,
   "metadata": {},
   "outputs": [
    {
     "data": {
      "text/plain": [
       "21.827064606360157"
      ]
     },
     "execution_count": 16,
     "metadata": {},
     "output_type": "execute_result"
    }
   ],
   "source": [
    "df.groupby(['Invoice']).agg({'StockCode': np.size})['StockCode'].mean()"
   ]
  },
  {
   "cell_type": "markdown",
   "metadata": {},
   "source": [
    "Create a product-ID and product-description dictionary to easily map a product's description to its ID and vice versa"
   ]
  },
  {
   "cell_type": "code",
   "execution_count": 19,
   "metadata": {},
   "outputs": [],
   "source": [
    "products = df[[\"StockCode\", \"Description\"]]\n",
    "\n",
    "# remove duplicates\n",
    "products.drop_duplicates(inplace=True, subset='StockCode', keep=\"last\")\n",
    "\n",
    "# create product-ID and product-description dictionary\n",
    "products_dict = products.groupby('StockCode')['Description'].apply(list).to_dict()"
   ]
  },
  {
   "cell_type": "code",
   "execution_count": 20,
   "metadata": {},
   "outputs": [
    {
     "data": {
      "text/plain": [
       "['RED WOOLLY HOTTIE WHITE HEART.']"
      ]
     },
     "execution_count": 20,
     "metadata": {},
     "output_type": "execute_result"
    }
   ],
   "source": [
    "# test the dictionary\n",
    "products_dict['84029E']"
   ]
  },
  {
   "cell_type": "markdown",
   "metadata": {},
   "source": [
    "## Transform the data "
   ]
  },
  {
   "cell_type": "markdown",
   "metadata": {},
   "source": [
    "We will change the dataframe so that each line is a single user transaction"
   ]
  },
  {
   "cell_type": "code",
   "execution_count": 21,
   "metadata": {},
   "outputs": [
    {
     "name": "stderr",
     "output_type": "stream",
     "text": [
      "100%|██████████████████████████████████████████████████████████████████████████| 36823/36823 [1:34:32<00:00,  6.49it/s]\n"
     ]
    }
   ],
   "source": [
    "df_model = pd.DataFrame([],columns = ['Invoice','InvoiceDate','Customer ID','Transaction'])\n",
    "\n",
    "for i in tqdm(transactions, position=0, leave=True):\n",
    "    invoice = i\n",
    "    invoicedate = set(df[df[\"Invoice\"] == i][\"InvoiceDate\"]).pop()\n",
    "    customer = set(df[df[\"Invoice\"] == i][\"Customer ID\"]).pop()\n",
    "    transaction = df[df[\"Invoice\"] == i][\"StockCode\"].tolist()\n",
    "    row = [invoice,invoicedate,customer,transaction]\n",
    "    df_model = pd.concat([df_model,pd.DataFrame([row], columns = list(df_model.columns))], axis = 0) "
   ]
  },
  {
   "cell_type": "code",
   "execution_count": 22,
   "metadata": {},
   "outputs": [
    {
     "data": {
      "text/html": [
       "<div>\n",
       "<style scoped>\n",
       "    .dataframe tbody tr th:only-of-type {\n",
       "        vertical-align: middle;\n",
       "    }\n",
       "\n",
       "    .dataframe tbody tr th {\n",
       "        vertical-align: top;\n",
       "    }\n",
       "\n",
       "    .dataframe thead th {\n",
       "        text-align: right;\n",
       "    }\n",
       "</style>\n",
       "<table border=\"1\" class=\"dataframe\">\n",
       "  <thead>\n",
       "    <tr style=\"text-align: right;\">\n",
       "      <th></th>\n",
       "      <th>Invoice</th>\n",
       "      <th>InvoiceDate</th>\n",
       "      <th>Customer ID</th>\n",
       "      <th>Transaction</th>\n",
       "    </tr>\n",
       "  </thead>\n",
       "  <tbody>\n",
       "    <tr>\n",
       "      <th>0</th>\n",
       "      <td>489434</td>\n",
       "      <td>2009-12-01 07:45:00</td>\n",
       "      <td>13085.0</td>\n",
       "      <td>[85048, 79323P, 79323W, 22041, 21232, 22064, 2...</td>\n",
       "    </tr>\n",
       "    <tr>\n",
       "      <th>0</th>\n",
       "      <td>489435</td>\n",
       "      <td>2009-12-01 07:46:00</td>\n",
       "      <td>13085.0</td>\n",
       "      <td>[22350, 22349, 22195, 22353]</td>\n",
       "    </tr>\n",
       "    <tr>\n",
       "      <th>0</th>\n",
       "      <td>489436</td>\n",
       "      <td>2009-12-01 09:06:00</td>\n",
       "      <td>13078.0</td>\n",
       "      <td>[48173C, 21755, 21754, 84879, 22119, 22142, 22...</td>\n",
       "    </tr>\n",
       "    <tr>\n",
       "      <th>0</th>\n",
       "      <td>489437</td>\n",
       "      <td>2009-12-01 09:08:00</td>\n",
       "      <td>15362.0</td>\n",
       "      <td>[22143, 22145, 22130, 21364, 21360, 21351, 213...</td>\n",
       "    </tr>\n",
       "    <tr>\n",
       "      <th>0</th>\n",
       "      <td>489438</td>\n",
       "      <td>2009-12-01 09:24:00</td>\n",
       "      <td>18102.0</td>\n",
       "      <td>[21329, 21252, 21100, 21033, 20711, 21410, 214...</td>\n",
       "    </tr>\n",
       "  </tbody>\n",
       "</table>\n",
       "</div>"
      ],
      "text/plain": [
       "  Invoice          InvoiceDate  Customer ID  \\\n",
       "0  489434  2009-12-01 07:45:00      13085.0   \n",
       "0  489435  2009-12-01 07:46:00      13085.0   \n",
       "0  489436  2009-12-01 09:06:00      13078.0   \n",
       "0  489437  2009-12-01 09:08:00      15362.0   \n",
       "0  489438  2009-12-01 09:24:00      18102.0   \n",
       "\n",
       "                                         Transaction  \n",
       "0  [85048, 79323P, 79323W, 22041, 21232, 22064, 2...  \n",
       "0                       [22350, 22349, 22195, 22353]  \n",
       "0  [48173C, 21755, 21754, 84879, 22119, 22142, 22...  \n",
       "0  [22143, 22145, 22130, 21364, 21360, 21351, 213...  \n",
       "0  [21329, 21252, 21100, 21033, 20711, 21410, 214...  "
      ]
     },
     "execution_count": 22,
     "metadata": {},
     "output_type": "execute_result"
    }
   ],
   "source": [
    "df_model.head()"
   ]
  },
  {
   "cell_type": "markdown",
   "metadata": {},
   "source": [
    "We have 36,823 sequences of purchases"
   ]
  },
  {
   "cell_type": "code",
   "execution_count": 23,
   "metadata": {},
   "outputs": [
    {
     "data": {
      "text/plain": [
       "(36823, 4)"
      ]
     },
     "execution_count": 23,
     "metadata": {},
     "output_type": "execute_result"
    }
   ],
   "source": [
    "df_model.shape"
   ]
  },
  {
   "cell_type": "code",
   "execution_count": 24,
   "metadata": {},
   "outputs": [],
   "source": [
    "df_model = df_model.sort_values(by=['InvoiceDate'])"
   ]
  },
  {
   "cell_type": "markdown",
   "metadata": {},
   "source": [
    "## Split the data to Train, Validation and Test "
   ]
  },
  {
   "cell_type": "code",
   "execution_count": 25,
   "metadata": {},
   "outputs": [],
   "source": [
    "train = df_model.copy()\n",
    "train = train.reset_index().drop(columns = ['index'])\n",
    "validation = pd.DataFrame([], columns=list(train))\n",
    "test = pd.DataFrame([], columns=list(train))"
   ]
  },
  {
   "cell_type": "code",
   "execution_count": 26,
   "metadata": {},
   "outputs": [
    {
     "name": "stderr",
     "output_type": "stream",
     "text": [
      "100%|█████████████████████████████████████████████████████████████████████████████| 5878/5878 [00:43<00:00, 134.72it/s]\n"
     ]
    }
   ],
   "source": [
    "for c in tqdm(customers, position=0, leave=True):\n",
    "    temp = train[train['Customer ID'] == c].sort_values(by=['InvoiceDate'])\n",
    "    num = round(len(temp)*0.12)\n",
    "    test = test.append(temp.tail(num))\n",
    "    train.drop(temp.tail(num).index,inplace = True)\n",
    "    "
   ]
  },
  {
   "cell_type": "code",
   "execution_count": 27,
   "metadata": {},
   "outputs": [
    {
     "name": "stderr",
     "output_type": "stream",
     "text": [
      "100%|█████████████████████████████████████████████████████████████████████████████| 5878/5878 [00:40<00:00, 144.97it/s]\n"
     ]
    }
   ],
   "source": [
    "for c in tqdm(customers, position=0, leave=True):\n",
    "    temp = train[train['Customer ID'] == c].sort_values(by=['InvoiceDate'])\n",
    "    num = round(len(temp)*0.23)\n",
    "    validation = validation.append(temp.tail(num))\n",
    "    train.drop(temp.tail(num).index,inplace = True)"
   ]
  },
  {
   "cell_type": "code",
   "execution_count": 28,
   "metadata": {},
   "outputs": [
    {
     "name": "stdout",
     "output_type": "stream",
     "text": [
      "Precentage data in train: 70.67322054150938\n",
      "Precentage data in validation: 19.221682100860875\n",
      "Precentage data in test: 10.105097357629743\n"
     ]
    }
   ],
   "source": [
    "print('Precentage data in train:',len(train)/len(df_model)*100)\n",
    "print('Precentage data in validation:',len(validation)/len(df_model)*100)\n",
    "print('Precentage data in test:',len(test)/len(df_model)*100)"
   ]
  },
  {
   "cell_type": "markdown",
   "metadata": {},
   "source": [
    "# Word2vec based Recommender System"
   ]
  },
  {
   "cell_type": "markdown",
   "metadata": {},
   "source": [
    "**Model to learn embedding: Identify word and sentence equivalents from data**\n",
    "<br>\n",
    "In our model it can be imagined that each “item” is a “word”, and each \"transaction is a \"sentence”"
   ]
  },
  {
   "cell_type": "markdown",
   "metadata": {},
   "source": [
    "Function that takes set of sentences and build a word2vec model"
   ]
  },
  {
   "cell_type": "code",
   "execution_count": 29,
   "metadata": {},
   "outputs": [],
   "source": [
    "def word2vec_model(sentences,size,window,negative,sample):\n",
    "    model = Word2Vec(size = size, # the dimensionality of the embedding vector\n",
    "                     window = window, # the number of context words you are looking at\n",
    "                     min_count=3, # Ignores all words with total absolute frequency lower than this number\n",
    "                     sample=sample, # The threshold for configuring which higher-frequency words are randomly downsampled. Highly influencial\n",
    "                     sg = 1, # whether to use skip-gram or CBOW- 1 is using skip-gram\n",
    "                     hs = 0, # using negative sampling\n",
    "                     negative = negative, # for negative sampling\n",
    "                     alpha=0.03, #The initial learning rate \n",
    "                     min_alpha=0.0007) #Learning rate will linearly drop to min_alpha as training progresses\n",
    "    t = time()\n",
    "    model.build_vocab(sentences = sentences, # the list of split sentences\n",
    "                      progress_per=200)\n",
    "    print('Time to build vocab: {} mins'.format(round((time() - t) / 60, 2)))\n",
    "    \n",
    "    # train word2vec model\n",
    "    t = time()\n",
    "    model.train(train_model, total_examples = model.corpus_count, \n",
    "                epochs=30, report_delay=1)\n",
    "    print('Time to train the model: {} mins'.format(round((time() - t) / 60, 2)))\n",
    "    \n",
    "    # save word2vec model\n",
    "    model.save(\"word2vec_2.model\")\n",
    "    # we do not plan to train the model any further, we are calling init_sims(), which will make the model much more memory-efficient\n",
    "    model.init_sims(replace=True)\n",
    "    print(model)\n",
    "    word_vectors = model.wv\n",
    "    \n",
    "    return model,word_vectors   "
   ]
  },
  {
   "cell_type": "markdown",
   "metadata": {},
   "source": [
    "## Recomandation methods"
   ]
  },
  {
   "cell_type": "markdown",
   "metadata": {},
   "source": [
    "**1. Top K:**\n",
    "\n",
    "Given a purchased product, the method calculates cosine similarities to all other products in the vocabulary and recommends the top K most similar products"
   ]
  },
  {
   "cell_type": "markdown",
   "metadata": {},
   "source": [
    "Function that takes a product's vector as input and return top k similar products"
   ]
  },
  {
   "cell_type": "code",
   "execution_count": 30,
   "metadata": {},
   "outputs": [],
   "source": [
    "def top_k_similar_products(vector,model,k):\n",
    "    \n",
    "    # extract most similar products for the input vector\n",
    "    ms = model.similar_by_vector(vector, topn= k+1)[1:]\n",
    "    ms_item = [i[0] for i in ms]\n",
    "    \n",
    "    # extract name of the similar products\n",
    "    new_ms = []\n",
    "    for j in ms_item:\n",
    "        pair = products_dict[j][0]\n",
    "        new_ms.append(pair)\n",
    "        \n",
    "    return new_ms        "
   ]
  },
  {
   "cell_type": "markdown",
   "metadata": {},
   "source": [
    "Function that takes a product's vector as input and return top k similar products excluding the products that appear already in the transaction"
   ]
  },
  {
   "cell_type": "code",
   "execution_count": 1,
   "metadata": {},
   "outputs": [],
   "source": [
    "def top_k_similar_products2(vector,model,transaction,k = 5):\n",
    "    \n",
    "    # extract most similar products for the input vector\n",
    "    ms = model.similar_by_vector(vector, topn= k+len(transaction))[1:]\n",
    "    ms_item = [i[0] for i in ms]\n",
    "    \n",
    "    for t in transaction:\n",
    "        if t in ms_item:\n",
    "            ms_item.remove(t)\n",
    "    ms_item_k = ms_item[:k].copy()\n",
    "    \n",
    "    # extract name of the similar products\n",
    "    new_ms = []\n",
    "    for j in ms_item_k:\n",
    "        pair = products_dict[j][0]\n",
    "        new_ms.append(pair)\n",
    "        \n",
    "    return new_ms        "
   ]
  },
  {
   "cell_type": "markdown",
   "metadata": {},
   "source": [
    "**2. Aggregate products:**\n",
    "\n",
    "Recommend a product based on the multiple purchases that were in the transaction so far. \n",
    "Average the vectors corresponding to each product in the transaction, find a vector that is equidistant from all the products and use this resultant vector to find similar products."
   ]
  },
  {
   "cell_type": "markdown",
   "metadata": {},
   "source": [
    "Function that takes a list of product ID's and returns a vector which is the mean of vectors of the products in the input list"
   ]
  },
  {
   "cell_type": "code",
   "execution_count": 32,
   "metadata": {},
   "outputs": [],
   "source": [
    "def aggregate_vectors(products,model):\n",
    "    product_vec = []\n",
    "    for i in products:\n",
    "        product_vec.append(model[i])\n",
    "    \n",
    "    vector = np.mean(product_vec, axis=0)\n",
    "\n",
    "    return vector"
   ]
  },
  {
   "cell_type": "markdown",
   "metadata": {},
   "source": [
    "Function that takes a list of products as input and return top k similar products excluding the products in the list"
   ]
  },
  {
   "cell_type": "code",
   "execution_count": 43,
   "metadata": {},
   "outputs": [],
   "source": [
    "def top_k_aggregate_vectors(products,model,k):\n",
    "    \n",
    "    vector = aggregate_vectors(products,model)\n",
    "    # extract most similar products for the input vector\n",
    "    ms = model.similar_by_vector(vector, topn= k+len(products))[:]\n",
    "    ms_item = [i[0] for i in ms]\n",
    "    \n",
    "    for p in products:\n",
    "        if p in ms_item:\n",
    "            ms_item.remove(p)\n",
    "    ms_item_k = ms_item[:k].copy()\n",
    "    \n",
    "    # extract name of the similar products\n",
    "    new_ms = []\n",
    "    for j in ms_item_k:\n",
    "        pair = products_dict[j][0]\n",
    "        new_ms.append(pair)\n",
    "        \n",
    "    return new_ms   "
   ]
  },
  {
   "cell_type": "markdown",
   "metadata": {},
   "source": [
    "**3. Memory-based Item-based CF:**\n",
    "\n",
    "Given a purchased product, the method recommends the top K most similar products according to Customer-Item Matrix"
   ]
  },
  {
   "cell_type": "markdown",
   "metadata": {},
   "source": [
    "Function that takes a product and returns the top k similar products based on Customer-Item Matrix"
   ]
  },
  {
   "cell_type": "code",
   "execution_count": 123,
   "metadata": {},
   "outputs": [],
   "source": [
    "def top_similar_items(item,k,item_item_sim_matrix):\n",
    "    top_n = item_item_sim_matrix.loc[item].sort_values(ascending=False).iloc[1:k+1].index\n",
    "    return list(top_n)"
   ]
  },
  {
   "cell_type": "markdown",
   "metadata": {},
   "source": [
    "## Evaluation"
   ]
  },
  {
   "cell_type": "markdown",
   "metadata": {},
   "source": [
    "Functions to calulate the measure precision@k"
   ]
  },
  {
   "cell_type": "code",
   "execution_count": 35,
   "metadata": {},
   "outputs": [],
   "source": [
    "def calculate_precision_at_k(test,model,word_vectors,k, aggregate=False):\n",
    "    cnt = 0\n",
    "    correct = 0\n",
    "    for t in test:\n",
    "        items = []\n",
    "        for j in range(len(t)-1):\n",
    "            if t[j] in word_vectors.vocab: \n",
    "                cnt+=1\n",
    "                if aggregate:\n",
    "                    items.append(t[j])\n",
    "                    recommand = top_k_aggregate_vectors(items,model,k)\n",
    "                else:\n",
    "                    recommand = top_k_similar_products(model[t[j]],model,k)\n",
    "                if products_dict[t[j+1]][0] in recommand:\n",
    "                    correct+=1\n",
    "    return correct/cnt"
   ]
  },
  {
   "cell_type": "code",
   "execution_count": 36,
   "metadata": {},
   "outputs": [],
   "source": [
    "def calculate_precision_at_k_CF(test,item_item_sim_matrix,k):\n",
    "    cnt = 0\n",
    "    correct = 0\n",
    "    for t in test:\n",
    "        for j in range(len(t)-1):\n",
    "            if t[j] in item_item_sim_matrix.index: \n",
    "                cnt+=1\n",
    "                recommand = top_similar_items(t[j],k,item_item_sim_matrix)\n",
    "                if t[j+1] in recommand:\n",
    "                    correct+=1\n",
    "    return correct/cnt"
   ]
  },
  {
   "cell_type": "markdown",
   "metadata": {},
   "source": [
    "# Create product recommendation system"
   ]
  },
  {
   "cell_type": "code",
   "execution_count": 37,
   "metadata": {},
   "outputs": [],
   "source": [
    "train_model = train['Transaction'].tolist()\n",
    "validation_model = validation['Transaction'].tolist()\n",
    "test_model = test['Transaction'].tolist()"
   ]
  },
  {
   "cell_type": "markdown",
   "metadata": {},
   "source": [
    "## Hyperparameter tuning"
   ]
  },
  {
   "cell_type": "code",
   "execution_count": 38,
   "metadata": {},
   "outputs": [
    {
     "data": {
      "text/plain": [
       "542"
      ]
     },
     "execution_count": 38,
     "metadata": {},
     "output_type": "execute_result"
    }
   ],
   "source": [
    "# max lenght of a sentence\n",
    "max_sent = len(max(validation_model, key=len))\n",
    "max_sent"
   ]
  },
  {
   "cell_type": "markdown",
   "metadata": {},
   "source": [
    "**Hyperparameters for our model**"
   ]
  },
  {
   "cell_type": "code",
   "execution_count": 68,
   "metadata": {},
   "outputs": [],
   "source": [
    "sizes = [50,100,150]\n",
    "windows = [8,10,15,18,max_sent]\n",
    "negatives = [10,15,20]\n",
    "samples = [1e-2,1e-3,1e-4,1e-5]"
   ]
  },
  {
   "cell_type": "code",
   "execution_count": 69,
   "metadata": {
    "scrolled": true
   },
   "outputs": [
    {
     "name": "stdout",
     "output_type": "stream",
     "text": [
      "------------ Configuration Number 1 ------------\n",
      "Time to build vocab: 0.02 mins\n",
      "Time to train the model: 1.75 mins\n",
      "Word2Vec(vocab=4325, size=50, alpha=0.03)\n",
      "------------ Configuration Number 2 ------------\n",
      "Time to build vocab: 0.02 mins\n",
      "Time to train the model: 1.76 mins\n",
      "Word2Vec(vocab=4325, size=50, alpha=0.03)\n",
      "------------ Configuration Number 3 ------------\n",
      "Time to build vocab: 0.02 mins\n",
      "Time to train the model: 1.11 mins\n",
      "Word2Vec(vocab=4325, size=50, alpha=0.03)\n",
      "------------ Configuration Number 4 ------------\n",
      "Time to build vocab: 0.02 mins\n",
      "Time to train the model: 0.26 mins\n",
      "Word2Vec(vocab=4325, size=50, alpha=0.03)\n",
      "------------ Configuration Number 5 ------------\n",
      "Time to build vocab: 0.02 mins\n",
      "Time to train the model: 2.69 mins\n",
      "Word2Vec(vocab=4325, size=50, alpha=0.03)\n",
      "------------ Configuration Number 6 ------------\n",
      "Time to build vocab: 0.02 mins\n",
      "Time to train the model: 2.48 mins\n",
      "Word2Vec(vocab=4325, size=50, alpha=0.03)\n",
      "------------ Configuration Number 7 ------------\n",
      "Time to build vocab: 0.02 mins\n",
      "Time to train the model: 1.52 mins\n",
      "Word2Vec(vocab=4325, size=50, alpha=0.03)\n",
      "------------ Configuration Number 8 ------------\n",
      "Time to build vocab: 0.02 mins\n",
      "Time to train the model: 0.38 mins\n",
      "Word2Vec(vocab=4325, size=50, alpha=0.03)\n",
      "------------ Configuration Number 9 ------------\n",
      "Time to build vocab: 0.02 mins\n",
      "Time to train the model: 3.28 mins\n",
      "Word2Vec(vocab=4325, size=50, alpha=0.03)\n",
      "------------ Configuration Number 10 ------------\n",
      "Time to build vocab: 0.02 mins\n",
      "Time to train the model: 3.26 mins\n",
      "Word2Vec(vocab=4325, size=50, alpha=0.03)\n",
      "------------ Configuration Number 11 ------------\n",
      "Time to build vocab: 0.03 mins\n",
      "Time to train the model: 2.0 mins\n",
      "Word2Vec(vocab=4325, size=50, alpha=0.03)\n",
      "------------ Configuration Number 12 ------------\n",
      "Time to build vocab: 0.02 mins\n",
      "Time to train the model: 0.48 mins\n",
      "Word2Vec(vocab=4325, size=50, alpha=0.03)\n",
      "------------ Configuration Number 13 ------------\n",
      "Time to build vocab: 0.02 mins\n",
      "Time to train the model: 2.08 mins\n",
      "Word2Vec(vocab=4325, size=50, alpha=0.03)\n",
      "------------ Configuration Number 14 ------------\n",
      "Time to build vocab: 0.02 mins\n",
      "Time to train the model: 2.16 mins\n",
      "Word2Vec(vocab=4325, size=50, alpha=0.03)\n",
      "------------ Configuration Number 15 ------------\n",
      "Time to build vocab: 0.02 mins\n",
      "Time to train the model: 1.34 mins\n",
      "Word2Vec(vocab=4325, size=50, alpha=0.03)\n",
      "------------ Configuration Number 16 ------------\n",
      "Time to build vocab: 0.02 mins\n",
      "Time to train the model: 0.35 mins\n",
      "Word2Vec(vocab=4325, size=50, alpha=0.03)\n",
      "------------ Configuration Number 17 ------------\n",
      "Time to build vocab: 0.02 mins\n",
      "Time to train the model: 2.96 mins\n",
      "Word2Vec(vocab=4325, size=50, alpha=0.03)\n",
      "------------ Configuration Number 18 ------------\n",
      "Time to build vocab: 0.02 mins\n",
      "Time to train the model: 2.97 mins\n",
      "Word2Vec(vocab=4325, size=50, alpha=0.03)\n",
      "------------ Configuration Number 19 ------------\n",
      "Time to build vocab: 0.02 mins\n",
      "Time to train the model: 1.75 mins\n",
      "Word2Vec(vocab=4325, size=50, alpha=0.03)\n",
      "------------ Configuration Number 20 ------------\n",
      "Time to build vocab: 0.02 mins\n",
      "Time to train the model: 0.45 mins\n",
      "Word2Vec(vocab=4325, size=50, alpha=0.03)\n",
      "------------ Configuration Number 21 ------------\n",
      "Time to build vocab: 0.02 mins\n",
      "Time to train the model: 3.82 mins\n",
      "Word2Vec(vocab=4325, size=50, alpha=0.03)\n",
      "------------ Configuration Number 22 ------------\n",
      "Time to build vocab: 0.02 mins\n",
      "Time to train the model: 3.82 mins\n",
      "Word2Vec(vocab=4325, size=50, alpha=0.03)\n",
      "------------ Configuration Number 23 ------------\n",
      "Time to build vocab: 0.02 mins\n",
      "Time to train the model: 2.28 mins\n",
      "Word2Vec(vocab=4325, size=50, alpha=0.03)\n",
      "------------ Configuration Number 24 ------------\n",
      "Time to build vocab: 0.02 mins\n",
      "Time to train the model: 0.55 mins\n",
      "Word2Vec(vocab=4325, size=50, alpha=0.03)\n",
      "------------ Configuration Number 25 ------------\n",
      "Time to build vocab: 0.02 mins\n",
      "Time to train the model: 2.76 mins\n",
      "Word2Vec(vocab=4325, size=50, alpha=0.03)\n",
      "------------ Configuration Number 26 ------------\n",
      "Time to build vocab: 0.02 mins\n",
      "Time to train the model: 2.79 mins\n",
      "Word2Vec(vocab=4325, size=50, alpha=0.03)\n",
      "------------ Configuration Number 27 ------------\n",
      "Time to build vocab: 0.02 mins\n",
      "Time to train the model: 1.59 mins\n",
      "Word2Vec(vocab=4325, size=50, alpha=0.03)\n",
      "------------ Configuration Number 28 ------------\n",
      "Time to build vocab: 0.02 mins\n",
      "Time to train the model: 0.33 mins\n",
      "Word2Vec(vocab=4325, size=50, alpha=0.03)\n",
      "------------ Configuration Number 29 ------------\n",
      "Time to build vocab: 0.02 mins\n",
      "Time to train the model: 3.91 mins\n",
      "Word2Vec(vocab=4325, size=50, alpha=0.03)\n",
      "------------ Configuration Number 30 ------------\n",
      "Time to build vocab: 0.02 mins\n",
      "Time to train the model: 3.89 mins\n",
      "Word2Vec(vocab=4325, size=50, alpha=0.03)\n",
      "------------ Configuration Number 31 ------------\n",
      "Time to build vocab: 0.02 mins\n",
      "Time to train the model: 2.24 mins\n",
      "Word2Vec(vocab=4325, size=50, alpha=0.03)\n",
      "------------ Configuration Number 32 ------------\n",
      "Time to build vocab: 0.02 mins\n",
      "Time to train the model: 0.46 mins\n",
      "Word2Vec(vocab=4325, size=50, alpha=0.03)\n",
      "------------ Configuration Number 33 ------------\n",
      "Time to build vocab: 0.02 mins\n",
      "Time to train the model: 5.06 mins\n",
      "Word2Vec(vocab=4325, size=50, alpha=0.03)\n",
      "------------ Configuration Number 34 ------------\n",
      "Time to build vocab: 0.02 mins\n",
      "Time to train the model: 5.04 mins\n",
      "Word2Vec(vocab=4325, size=50, alpha=0.03)\n",
      "------------ Configuration Number 35 ------------\n",
      "Time to build vocab: 0.02 mins\n",
      "Time to train the model: 2.88 mins\n",
      "Word2Vec(vocab=4325, size=50, alpha=0.03)\n",
      "------------ Configuration Number 36 ------------\n",
      "Time to build vocab: 0.02 mins\n",
      "Time to train the model: 0.61 mins\n",
      "Word2Vec(vocab=4325, size=50, alpha=0.03)\n",
      "------------ Configuration Number 37 ------------\n",
      "Time to build vocab: 0.02 mins\n",
      "Time to train the model: 3.14 mins\n",
      "Word2Vec(vocab=4325, size=50, alpha=0.03)\n",
      "------------ Configuration Number 38 ------------\n",
      "Time to build vocab: 0.02 mins\n",
      "Time to train the model: 3.26 mins\n",
      "Word2Vec(vocab=4325, size=50, alpha=0.03)\n",
      "------------ Configuration Number 39 ------------\n",
      "Time to build vocab: 0.02 mins\n",
      "Time to train the model: 1.76 mins\n",
      "Word2Vec(vocab=4325, size=50, alpha=0.03)\n",
      "------------ Configuration Number 40 ------------\n",
      "Time to build vocab: 0.02 mins\n",
      "Time to train the model: 0.35 mins\n",
      "Word2Vec(vocab=4325, size=50, alpha=0.03)\n",
      "------------ Configuration Number 41 ------------\n",
      "Time to build vocab: 0.02 mins\n",
      "Time to train the model: 4.5 mins\n",
      "Word2Vec(vocab=4325, size=50, alpha=0.03)\n",
      "------------ Configuration Number 42 ------------\n",
      "Time to build vocab: 0.02 mins\n",
      "Time to train the model: 4.44 mins\n",
      "Word2Vec(vocab=4325, size=50, alpha=0.03)\n",
      "------------ Configuration Number 43 ------------\n",
      "Time to build vocab: 0.02 mins\n",
      "Time to train the model: 2.55 mins\n",
      "Word2Vec(vocab=4325, size=50, alpha=0.03)\n",
      "------------ Configuration Number 44 ------------\n",
      "Time to build vocab: 0.02 mins\n",
      "Time to train the model: 0.5 mins\n",
      "Word2Vec(vocab=4325, size=50, alpha=0.03)\n",
      "------------ Configuration Number 45 ------------\n",
      "Time to build vocab: 0.02 mins\n",
      "Time to train the model: 5.74 mins\n",
      "Word2Vec(vocab=4325, size=50, alpha=0.03)\n",
      "------------ Configuration Number 46 ------------\n",
      "Time to build vocab: 0.02 mins\n",
      "Time to train the model: 5.74 mins\n",
      "Word2Vec(vocab=4325, size=50, alpha=0.03)\n",
      "------------ Configuration Number 47 ------------\n",
      "Time to build vocab: 0.02 mins\n",
      "Time to train the model: 3.24 mins\n",
      "Word2Vec(vocab=4325, size=50, alpha=0.03)\n",
      "------------ Configuration Number 48 ------------\n",
      "Time to build vocab: 0.02 mins\n",
      "Time to train the model: 0.64 mins\n",
      "Word2Vec(vocab=4325, size=50, alpha=0.03)\n",
      "------------ Configuration Number 49 ------------\n",
      "Time to build vocab: 0.02 mins\n",
      "Time to train the model: 9.27 mins\n",
      "Word2Vec(vocab=4325, size=50, alpha=0.03)\n",
      "------------ Configuration Number 50 ------------\n",
      "Time to build vocab: 0.02 mins\n",
      "Time to train the model: 9.19 mins\n",
      "Word2Vec(vocab=4325, size=50, alpha=0.03)\n",
      "------------ Configuration Number 51 ------------\n",
      "Time to build vocab: 0.02 mins\n",
      "Time to train the model: 4.15 mins\n",
      "Word2Vec(vocab=4325, size=50, alpha=0.03)\n",
      "------------ Configuration Number 52 ------------\n",
      "Time to build vocab: 0.02 mins\n",
      "Time to train the model: 0.56 mins\n",
      "Word2Vec(vocab=4325, size=50, alpha=0.03)\n"
     ]
    },
    {
     "name": "stdout",
     "output_type": "stream",
     "text": [
      "------------ Configuration Number 53 ------------\n",
      "Time to build vocab: 0.02 mins\n",
      "Time to train the model: 13.18 mins\n",
      "Word2Vec(vocab=4325, size=50, alpha=0.03)\n",
      "------------ Configuration Number 54 ------------\n",
      "Time to build vocab: 0.02 mins\n",
      "Time to train the model: 13.13 mins\n",
      "Word2Vec(vocab=4325, size=50, alpha=0.03)\n",
      "------------ Configuration Number 55 ------------\n",
      "Time to build vocab: 0.02 mins\n",
      "Time to train the model: 5.88 mins\n",
      "Word2Vec(vocab=4325, size=50, alpha=0.03)\n",
      "------------ Configuration Number 56 ------------\n",
      "Time to build vocab: 0.02 mins\n",
      "Time to train the model: 0.78 mins\n",
      "Word2Vec(vocab=4325, size=50, alpha=0.03)\n",
      "------------ Configuration Number 57 ------------\n",
      "Time to build vocab: 0.02 mins\n",
      "Time to train the model: 16.97 mins\n",
      "Word2Vec(vocab=4325, size=50, alpha=0.03)\n",
      "------------ Configuration Number 58 ------------\n",
      "Time to build vocab: 0.02 mins\n",
      "Time to train the model: 16.87 mins\n",
      "Word2Vec(vocab=4325, size=50, alpha=0.03)\n",
      "------------ Configuration Number 59 ------------\n",
      "Time to build vocab: 0.02 mins\n",
      "Time to train the model: 7.63 mins\n",
      "Word2Vec(vocab=4325, size=50, alpha=0.03)\n",
      "------------ Configuration Number 60 ------------\n",
      "Time to build vocab: 0.02 mins\n",
      "Time to train the model: 0.95 mins\n",
      "Word2Vec(vocab=4325, size=50, alpha=0.03)\n",
      "------------ Configuration Number 61 ------------\n",
      "Time to build vocab: 0.02 mins\n",
      "Time to train the model: 1.91 mins\n",
      "Word2Vec(vocab=4325, size=100, alpha=0.03)\n",
      "------------ Configuration Number 62 ------------\n",
      "Time to build vocab: 0.02 mins\n",
      "Time to train the model: 1.91 mins\n",
      "Word2Vec(vocab=4325, size=100, alpha=0.03)\n",
      "------------ Configuration Number 63 ------------\n",
      "Time to build vocab: 0.02 mins\n",
      "Time to train the model: 1.14 mins\n",
      "Word2Vec(vocab=4325, size=100, alpha=0.03)\n",
      "------------ Configuration Number 64 ------------\n",
      "Time to build vocab: 0.02 mins\n",
      "Time to train the model: 0.28 mins\n",
      "Word2Vec(vocab=4325, size=100, alpha=0.03)\n",
      "------------ Configuration Number 65 ------------\n",
      "Time to build vocab: 0.02 mins\n",
      "Time to train the model: 2.75 mins\n",
      "Word2Vec(vocab=4325, size=100, alpha=0.03)\n",
      "------------ Configuration Number 66 ------------\n",
      "Time to build vocab: 0.02 mins\n",
      "Time to train the model: 2.69 mins\n",
      "Word2Vec(vocab=4325, size=100, alpha=0.03)\n",
      "------------ Configuration Number 67 ------------\n",
      "Time to build vocab: 0.02 mins\n",
      "Time to train the model: 1.62 mins\n",
      "Word2Vec(vocab=4325, size=100, alpha=0.03)\n",
      "------------ Configuration Number 68 ------------\n",
      "Time to build vocab: 0.02 mins\n",
      "Time to train the model: 0.39 mins\n",
      "Word2Vec(vocab=4325, size=100, alpha=0.03)\n",
      "------------ Configuration Number 69 ------------\n",
      "Time to build vocab: 0.02 mins\n",
      "Time to train the model: 3.51 mins\n",
      "Word2Vec(vocab=4325, size=100, alpha=0.03)\n",
      "------------ Configuration Number 70 ------------\n",
      "Time to build vocab: 0.02 mins\n",
      "Time to train the model: 3.48 mins\n",
      "Word2Vec(vocab=4325, size=100, alpha=0.03)\n",
      "------------ Configuration Number 71 ------------\n",
      "Time to build vocab: 0.02 mins\n",
      "Time to train the model: 2.06 mins\n",
      "Word2Vec(vocab=4325, size=100, alpha=0.03)\n",
      "------------ Configuration Number 72 ------------\n",
      "Time to build vocab: 0.02 mins\n",
      "Time to train the model: 0.54 mins\n",
      "Word2Vec(vocab=4325, size=100, alpha=0.03)\n",
      "------------ Configuration Number 73 ------------\n",
      "Time to build vocab: 0.02 mins\n",
      "Time to train the model: 2.26 mins\n",
      "Word2Vec(vocab=4325, size=100, alpha=0.03)\n",
      "------------ Configuration Number 74 ------------\n",
      "Time to build vocab: 0.02 mins\n",
      "Time to train the model: 2.24 mins\n",
      "Word2Vec(vocab=4325, size=100, alpha=0.03)\n",
      "------------ Configuration Number 75 ------------\n",
      "Time to build vocab: 0.02 mins\n",
      "Time to train the model: 1.32 mins\n",
      "Word2Vec(vocab=4325, size=100, alpha=0.03)\n",
      "------------ Configuration Number 76 ------------\n",
      "Time to build vocab: 0.02 mins\n",
      "Time to train the model: 0.36 mins\n",
      "Word2Vec(vocab=4325, size=100, alpha=0.03)\n",
      "------------ Configuration Number 77 ------------\n",
      "Time to build vocab: 0.02 mins\n",
      "Time to train the model: 3.18 mins\n",
      "Word2Vec(vocab=4325, size=100, alpha=0.03)\n",
      "------------ Configuration Number 78 ------------\n",
      "Time to build vocab: 0.02 mins\n",
      "Time to train the model: 3.2 mins\n",
      "Word2Vec(vocab=4325, size=100, alpha=0.03)\n",
      "------------ Configuration Number 79 ------------\n",
      "Time to build vocab: 0.02 mins\n",
      "Time to train the model: 1.88 mins\n",
      "Word2Vec(vocab=4325, size=100, alpha=0.03)\n",
      "------------ Configuration Number 80 ------------\n",
      "Time to build vocab: 0.02 mins\n",
      "Time to train the model: 0.47 mins\n",
      "Word2Vec(vocab=4325, size=100, alpha=0.03)\n",
      "------------ Configuration Number 81 ------------\n",
      "Time to build vocab: 0.02 mins\n",
      "Time to train the model: 4.16 mins\n",
      "Word2Vec(vocab=4325, size=100, alpha=0.03)\n",
      "------------ Configuration Number 82 ------------\n",
      "Time to build vocab: 0.02 mins\n",
      "Time to train the model: 4.09 mins\n",
      "Word2Vec(vocab=4325, size=100, alpha=0.03)\n",
      "------------ Configuration Number 83 ------------\n",
      "Time to build vocab: 0.02 mins\n",
      "Time to train the model: 2.44 mins\n",
      "Word2Vec(vocab=4325, size=100, alpha=0.03)\n",
      "------------ Configuration Number 84 ------------\n",
      "Time to build vocab: 0.02 mins\n",
      "Time to train the model: 0.57 mins\n",
      "Word2Vec(vocab=4325, size=100, alpha=0.03)\n",
      "------------ Configuration Number 85 ------------\n",
      "Time to build vocab: 0.02 mins\n",
      "Time to train the model: 3.04 mins\n",
      "Word2Vec(vocab=4325, size=100, alpha=0.03)\n",
      "------------ Configuration Number 86 ------------\n",
      "Time to build vocab: 0.02 mins\n",
      "Time to train the model: 2.98 mins\n",
      "Word2Vec(vocab=4325, size=100, alpha=0.03)\n",
      "------------ Configuration Number 87 ------------\n",
      "Time to build vocab: 0.02 mins\n",
      "Time to train the model: 1.72 mins\n",
      "Word2Vec(vocab=4325, size=100, alpha=0.03)\n",
      "------------ Configuration Number 88 ------------\n",
      "Time to build vocab: 0.02 mins\n",
      "Time to train the model: 0.37 mins\n",
      "Word2Vec(vocab=4325, size=100, alpha=0.03)\n",
      "------------ Configuration Number 89 ------------\n",
      "Time to build vocab: 0.02 mins\n",
      "Time to train the model: 4.24 mins\n",
      "Word2Vec(vocab=4325, size=100, alpha=0.03)\n",
      "------------ Configuration Number 90 ------------\n",
      "Time to build vocab: 0.02 mins\n",
      "Time to train the model: 4.25 mins\n",
      "Word2Vec(vocab=4325, size=100, alpha=0.03)\n",
      "------------ Configuration Number 91 ------------\n",
      "Time to build vocab: 0.02 mins\n",
      "Time to train the model: 2.44 mins\n",
      "Word2Vec(vocab=4325, size=100, alpha=0.03)\n",
      "------------ Configuration Number 92 ------------\n",
      "Time to build vocab: 0.02 mins\n",
      "Time to train the model: 0.55 mins\n",
      "Word2Vec(vocab=4325, size=100, alpha=0.03)\n",
      "------------ Configuration Number 93 ------------\n",
      "Time to build vocab: 0.02 mins\n",
      "Time to train the model: 5.52 mins\n",
      "Word2Vec(vocab=4325, size=100, alpha=0.03)\n",
      "------------ Configuration Number 94 ------------\n",
      "Time to build vocab: 0.02 mins\n",
      "Time to train the model: 5.52 mins\n",
      "Word2Vec(vocab=4325, size=100, alpha=0.03)\n",
      "------------ Configuration Number 95 ------------\n",
      "Time to build vocab: 0.02 mins\n",
      "Time to train the model: 3.14 mins\n",
      "Word2Vec(vocab=4325, size=100, alpha=0.03)\n",
      "------------ Configuration Number 96 ------------\n",
      "Time to build vocab: 0.02 mins\n",
      "Time to train the model: 0.67 mins\n",
      "Word2Vec(vocab=4325, size=100, alpha=0.03)\n",
      "------------ Configuration Number 97 ------------\n",
      "Time to build vocab: 0.02 mins\n",
      "Time to train the model: 3.4 mins\n",
      "Word2Vec(vocab=4325, size=100, alpha=0.03)\n",
      "------------ Configuration Number 98 ------------\n",
      "Time to build vocab: 0.02 mins\n",
      "Time to train the model: 3.54 mins\n",
      "Word2Vec(vocab=4325, size=100, alpha=0.03)\n",
      "------------ Configuration Number 99 ------------\n",
      "Time to build vocab: 0.02 mins\n",
      "Time to train the model: 1.97 mins\n",
      "Word2Vec(vocab=4325, size=100, alpha=0.03)\n",
      "------------ Configuration Number 100 ------------\n",
      "Time to build vocab: 0.02 mins\n",
      "Time to train the model: 0.43 mins\n",
      "Word2Vec(vocab=4325, size=100, alpha=0.03)\n",
      "------------ Configuration Number 101 ------------\n",
      "Time to build vocab: 0.02 mins\n",
      "Time to train the model: 4.84 mins\n",
      "Word2Vec(vocab=4325, size=100, alpha=0.03)\n",
      "------------ Configuration Number 102 ------------\n",
      "Time to build vocab: 0.02 mins\n",
      "Time to train the model: 4.84 mins\n",
      "Word2Vec(vocab=4325, size=100, alpha=0.03)\n",
      "------------ Configuration Number 103 ------------\n",
      "Time to build vocab: 0.02 mins\n",
      "Time to train the model: 2.72 mins\n",
      "Word2Vec(vocab=4325, size=100, alpha=0.03)\n",
      "------------ Configuration Number 104 ------------\n",
      "Time to build vocab: 0.02 mins\n",
      "Time to train the model: 0.59 mins\n",
      "Word2Vec(vocab=4325, size=100, alpha=0.03)\n"
     ]
    },
    {
     "name": "stdout",
     "output_type": "stream",
     "text": [
      "------------ Configuration Number 105 ------------\n",
      "Time to build vocab: 0.02 mins\n",
      "Time to train the model: 6.25 mins\n",
      "Word2Vec(vocab=4325, size=100, alpha=0.03)\n",
      "------------ Configuration Number 106 ------------\n",
      "Time to build vocab: 0.02 mins\n",
      "Time to train the model: 6.25 mins\n",
      "Word2Vec(vocab=4325, size=100, alpha=0.03)\n",
      "------------ Configuration Number 107 ------------\n",
      "Time to build vocab: 0.02 mins\n",
      "Time to train the model: 3.54 mins\n",
      "Word2Vec(vocab=4325, size=100, alpha=0.03)\n",
      "------------ Configuration Number 108 ------------\n",
      "Time to build vocab: 0.02 mins\n",
      "Time to train the model: 0.71 mins\n",
      "Word2Vec(vocab=4325, size=100, alpha=0.03)\n",
      "------------ Configuration Number 109 ------------\n",
      "Time to build vocab: 0.02 mins\n",
      "Time to train the model: 10.08 mins\n",
      "Word2Vec(vocab=4325, size=100, alpha=0.03)\n",
      "------------ Configuration Number 110 ------------\n",
      "Time to build vocab: 0.02 mins\n",
      "Time to train the model: 10.07 mins\n",
      "Word2Vec(vocab=4325, size=100, alpha=0.03)\n",
      "------------ Configuration Number 111 ------------\n",
      "Time to build vocab: 0.02 mins\n",
      "Time to train the model: 4.57 mins\n",
      "Word2Vec(vocab=4325, size=100, alpha=0.03)\n",
      "------------ Configuration Number 112 ------------\n",
      "Time to build vocab: 0.02 mins\n",
      "Time to train the model: 0.61 mins\n",
      "Word2Vec(vocab=4325, size=100, alpha=0.03)\n",
      "------------ Configuration Number 113 ------------\n",
      "Time to build vocab: 0.02 mins\n",
      "Time to train the model: 14.3 mins\n",
      "Word2Vec(vocab=4325, size=100, alpha=0.03)\n",
      "------------ Configuration Number 114 ------------\n",
      "Time to build vocab: 0.02 mins\n",
      "Time to train the model: 14.25 mins\n",
      "Word2Vec(vocab=4325, size=100, alpha=0.03)\n",
      "------------ Configuration Number 115 ------------\n",
      "Time to build vocab: 0.02 mins\n",
      "Time to train the model: 6.45 mins\n",
      "Word2Vec(vocab=4325, size=100, alpha=0.03)\n",
      "------------ Configuration Number 116 ------------\n",
      "Time to build vocab: 0.02 mins\n",
      "Time to train the model: 0.82 mins\n",
      "Word2Vec(vocab=4325, size=100, alpha=0.03)\n",
      "------------ Configuration Number 117 ------------\n",
      "Time to build vocab: 0.02 mins\n",
      "Time to train the model: 18.44 mins\n",
      "Word2Vec(vocab=4325, size=100, alpha=0.03)\n",
      "------------ Configuration Number 118 ------------\n",
      "Time to build vocab: 0.02 mins\n",
      "Time to train the model: 18.43 mins\n",
      "Word2Vec(vocab=4325, size=100, alpha=0.03)\n",
      "------------ Configuration Number 119 ------------\n",
      "Time to build vocab: 0.02 mins\n",
      "Time to train the model: 8.31 mins\n",
      "Word2Vec(vocab=4325, size=100, alpha=0.03)\n",
      "------------ Configuration Number 120 ------------\n",
      "Time to build vocab: 0.02 mins\n",
      "Time to train the model: 1.03 mins\n",
      "Word2Vec(vocab=4325, size=100, alpha=0.03)\n",
      "------------ Configuration Number 121 ------------\n",
      "Time to build vocab: 0.02 mins\n",
      "Time to train the model: 2.19 mins\n",
      "Word2Vec(vocab=4325, size=150, alpha=0.03)\n",
      "------------ Configuration Number 122 ------------\n",
      "Time to build vocab: 0.02 mins\n",
      "Time to train the model: 2.16 mins\n",
      "Word2Vec(vocab=4325, size=150, alpha=0.03)\n",
      "------------ Configuration Number 123 ------------\n",
      "Time to build vocab: 0.02 mins\n",
      "Time to train the model: 1.3 mins\n",
      "Word2Vec(vocab=4325, size=150, alpha=0.03)\n",
      "------------ Configuration Number 124 ------------\n",
      "Time to build vocab: 0.02 mins\n",
      "Time to train the model: 0.32 mins\n",
      "Word2Vec(vocab=4325, size=150, alpha=0.03)\n",
      "------------ Configuration Number 125 ------------\n",
      "Time to build vocab: 0.02 mins\n",
      "Time to train the model: 3.15 mins\n",
      "Word2Vec(vocab=4325, size=150, alpha=0.03)\n",
      "------------ Configuration Number 126 ------------\n",
      "Time to build vocab: 0.02 mins\n",
      "Time to train the model: 3.06 mins\n",
      "Word2Vec(vocab=4325, size=150, alpha=0.03)\n",
      "------------ Configuration Number 127 ------------\n",
      "Time to build vocab: 0.02 mins\n",
      "Time to train the model: 1.84 mins\n",
      "Word2Vec(vocab=4325, size=150, alpha=0.03)\n",
      "------------ Configuration Number 128 ------------\n",
      "Time to build vocab: 0.02 mins\n",
      "Time to train the model: 0.48 mins\n",
      "Word2Vec(vocab=4325, size=150, alpha=0.03)\n",
      "------------ Configuration Number 129 ------------\n",
      "Time to build vocab: 0.02 mins\n",
      "Time to train the model: 3.96 mins\n",
      "Word2Vec(vocab=4325, size=150, alpha=0.03)\n",
      "------------ Configuration Number 130 ------------\n",
      "Time to build vocab: 0.02 mins\n",
      "Time to train the model: 3.93 mins\n",
      "Word2Vec(vocab=4325, size=150, alpha=0.03)\n",
      "------------ Configuration Number 131 ------------\n",
      "Time to build vocab: 0.02 mins\n",
      "Time to train the model: 2.35 mins\n",
      "Word2Vec(vocab=4325, size=150, alpha=0.03)\n",
      "------------ Configuration Number 132 ------------\n",
      "Time to build vocab: 0.02 mins\n",
      "Time to train the model: 0.61 mins\n",
      "Word2Vec(vocab=4325, size=150, alpha=0.03)\n",
      "------------ Configuration Number 133 ------------\n",
      "Time to build vocab: 0.02 mins\n",
      "Time to train the model: 2.65 mins\n",
      "Word2Vec(vocab=4325, size=150, alpha=0.03)\n",
      "------------ Configuration Number 134 ------------\n",
      "Time to build vocab: 0.02 mins\n",
      "Time to train the model: 2.6 mins\n",
      "Word2Vec(vocab=4325, size=150, alpha=0.03)\n",
      "------------ Configuration Number 135 ------------\n",
      "Time to build vocab: 0.02 mins\n",
      "Time to train the model: 1.62 mins\n",
      "Word2Vec(vocab=4325, size=150, alpha=0.03)\n",
      "------------ Configuration Number 136 ------------\n",
      "Time to build vocab: 0.02 mins\n",
      "Time to train the model: 0.43 mins\n",
      "Word2Vec(vocab=4325, size=150, alpha=0.03)\n",
      "------------ Configuration Number 137 ------------\n",
      "Time to build vocab: 0.02 mins\n",
      "Time to train the model: 3.86 mins\n",
      "Word2Vec(vocab=4325, size=150, alpha=0.03)\n",
      "------------ Configuration Number 138 ------------\n",
      "Time to build vocab: 0.02 mins\n",
      "Time to train the model: 3.63 mins\n",
      "Word2Vec(vocab=4325, size=150, alpha=0.03)\n",
      "------------ Configuration Number 139 ------------\n",
      "Time to build vocab: 0.02 mins\n",
      "Time to train the model: 2.14 mins\n",
      "Word2Vec(vocab=4325, size=150, alpha=0.03)\n",
      "------------ Configuration Number 140 ------------\n",
      "Time to build vocab: 0.02 mins\n",
      "Time to train the model: 0.53 mins\n",
      "Word2Vec(vocab=4325, size=150, alpha=0.03)\n",
      "------------ Configuration Number 141 ------------\n",
      "Time to build vocab: 0.02 mins\n",
      "Time to train the model: 4.67 mins\n",
      "Word2Vec(vocab=4325, size=150, alpha=0.03)\n",
      "------------ Configuration Number 142 ------------\n",
      "Time to build vocab: 0.02 mins\n",
      "Time to train the model: 4.67 mins\n",
      "Word2Vec(vocab=4325, size=150, alpha=0.03)\n",
      "------------ Configuration Number 143 ------------\n",
      "Time to build vocab: 0.02 mins\n",
      "Time to train the model: 2.76 mins\n",
      "Word2Vec(vocab=4325, size=150, alpha=0.03)\n",
      "------------ Configuration Number 144 ------------\n",
      "Time to build vocab: 0.02 mins\n",
      "Time to train the model: 0.68 mins\n",
      "Word2Vec(vocab=4325, size=150, alpha=0.03)\n",
      "------------ Configuration Number 145 ------------\n",
      "Time to build vocab: 0.02 mins\n",
      "Time to train the model: 3.43 mins\n",
      "Word2Vec(vocab=4325, size=150, alpha=0.03)\n",
      "------------ Configuration Number 146 ------------\n",
      "Time to build vocab: 0.02 mins\n",
      "Time to train the model: 3.46 mins\n",
      "Word2Vec(vocab=4325, size=150, alpha=0.03)\n",
      "------------ Configuration Number 147 ------------\n",
      "Time to build vocab: 0.02 mins\n",
      "Time to train the model: 1.97 mins\n",
      "Word2Vec(vocab=4325, size=150, alpha=0.03)\n",
      "------------ Configuration Number 148 ------------\n",
      "Time to build vocab: 0.02 mins\n",
      "Time to train the model: 0.42 mins\n",
      "Word2Vec(vocab=4325, size=150, alpha=0.03)\n",
      "------------ Configuration Number 149 ------------\n",
      "Time to build vocab: 0.02 mins\n",
      "Time to train the model: 4.92 mins\n",
      "Word2Vec(vocab=4325, size=150, alpha=0.03)\n",
      "------------ Configuration Number 150 ------------\n",
      "Time to build vocab: 0.02 mins\n",
      "Time to train the model: 4.85 mins\n",
      "Word2Vec(vocab=4325, size=150, alpha=0.03)\n",
      "------------ Configuration Number 151 ------------\n",
      "Time to build vocab: 0.02 mins\n",
      "Time to train the model: 2.79 mins\n",
      "Word2Vec(vocab=4325, size=150, alpha=0.03)\n",
      "------------ Configuration Number 152 ------------\n",
      "Time to build vocab: 0.02 mins\n",
      "Time to train the model: 0.61 mins\n",
      "Word2Vec(vocab=4325, size=150, alpha=0.03)\n",
      "------------ Configuration Number 153 ------------\n",
      "Time to build vocab: 0.02 mins\n",
      "Time to train the model: 6.65 mins\n",
      "Word2Vec(vocab=4325, size=150, alpha=0.03)\n",
      "------------ Configuration Number 154 ------------\n",
      "Time to build vocab: 0.02 mins\n",
      "Time to train the model: 6.28 mins\n",
      "Word2Vec(vocab=4325, size=150, alpha=0.03)\n",
      "------------ Configuration Number 155 ------------\n",
      "Time to build vocab: 0.02 mins\n",
      "Time to train the model: 3.59 mins\n",
      "Word2Vec(vocab=4325, size=150, alpha=0.03)\n",
      "------------ Configuration Number 156 ------------\n"
     ]
    },
    {
     "name": "stdout",
     "output_type": "stream",
     "text": [
      "Time to build vocab: 0.02 mins\n",
      "Time to train the model: 0.76 mins\n",
      "Word2Vec(vocab=4325, size=150, alpha=0.03)\n",
      "------------ Configuration Number 157 ------------\n",
      "Time to build vocab: 0.02 mins\n",
      "Time to train the model: 3.91 mins\n",
      "Word2Vec(vocab=4325, size=150, alpha=0.03)\n",
      "------------ Configuration Number 158 ------------\n",
      "Time to build vocab: 0.02 mins\n",
      "Time to train the model: 3.88 mins\n",
      "Word2Vec(vocab=4325, size=150, alpha=0.03)\n",
      "------------ Configuration Number 159 ------------\n",
      "Time to build vocab: 0.02 mins\n",
      "Time to train the model: 2.22 mins\n",
      "Word2Vec(vocab=4325, size=150, alpha=0.03)\n",
      "------------ Configuration Number 160 ------------\n",
      "Time to build vocab: 0.02 mins\n",
      "Time to train the model: 0.45 mins\n",
      "Word2Vec(vocab=4325, size=150, alpha=0.03)\n",
      "------------ Configuration Number 161 ------------\n",
      "Time to build vocab: 0.02 mins\n",
      "Time to train the model: 5.56 mins\n",
      "Word2Vec(vocab=4325, size=150, alpha=0.03)\n",
      "------------ Configuration Number 162 ------------\n",
      "Time to build vocab: 0.02 mins\n",
      "Time to train the model: 5.53 mins\n",
      "Word2Vec(vocab=4325, size=150, alpha=0.03)\n",
      "------------ Configuration Number 163 ------------\n",
      "Time to build vocab: 0.02 mins\n",
      "Time to train the model: 3.1 mins\n",
      "Word2Vec(vocab=4325, size=150, alpha=0.03)\n",
      "------------ Configuration Number 164 ------------\n",
      "Time to build vocab: 0.02 mins\n",
      "Time to train the model: 0.66 mins\n",
      "Word2Vec(vocab=4325, size=150, alpha=0.03)\n",
      "------------ Configuration Number 165 ------------\n",
      "Time to build vocab: 0.02 mins\n",
      "Time to train the model: 7.14 mins\n",
      "Word2Vec(vocab=4325, size=150, alpha=0.03)\n",
      "------------ Configuration Number 166 ------------\n",
      "Time to build vocab: 0.02 mins\n",
      "Time to train the model: 7.15 mins\n",
      "Word2Vec(vocab=4325, size=150, alpha=0.03)\n",
      "------------ Configuration Number 167 ------------\n",
      "Time to build vocab: 0.02 mins\n",
      "Time to train the model: 4.05 mins\n",
      "Word2Vec(vocab=4325, size=150, alpha=0.03)\n",
      "------------ Configuration Number 168 ------------\n",
      "Time to build vocab: 0.02 mins\n",
      "Time to train the model: 0.84 mins\n",
      "Word2Vec(vocab=4325, size=150, alpha=0.03)\n",
      "------------ Configuration Number 169 ------------\n",
      "Time to build vocab: 0.02 mins\n",
      "Time to train the model: 11.56 mins\n",
      "Word2Vec(vocab=4325, size=150, alpha=0.03)\n",
      "------------ Configuration Number 170 ------------\n",
      "Time to build vocab: 0.02 mins\n",
      "Time to train the model: 12.29 mins\n",
      "Word2Vec(vocab=4325, size=150, alpha=0.03)\n",
      "------------ Configuration Number 171 ------------\n",
      "Time to build vocab: 0.02 mins\n",
      "Time to train the model: 5.18 mins\n",
      "Word2Vec(vocab=4325, size=150, alpha=0.03)\n",
      "------------ Configuration Number 172 ------------\n",
      "Time to build vocab: 0.02 mins\n",
      "Time to train the model: 0.65 mins\n",
      "Word2Vec(vocab=4325, size=150, alpha=0.03)\n",
      "------------ Configuration Number 173 ------------\n",
      "Time to build vocab: 0.02 mins\n",
      "Time to train the model: 16.45 mins\n",
      "Word2Vec(vocab=4325, size=150, alpha=0.03)\n",
      "------------ Configuration Number 174 ------------\n",
      "Time to build vocab: 0.02 mins\n",
      "Time to train the model: 16.23 mins\n",
      "Word2Vec(vocab=4325, size=150, alpha=0.03)\n",
      "------------ Configuration Number 175 ------------\n",
      "Time to build vocab: 0.02 mins\n",
      "Time to train the model: 7.37 mins\n",
      "Word2Vec(vocab=4325, size=150, alpha=0.03)\n",
      "------------ Configuration Number 176 ------------\n",
      "Time to build vocab: 0.02 mins\n",
      "Time to train the model: 0.96 mins\n",
      "Word2Vec(vocab=4325, size=150, alpha=0.03)\n",
      "------------ Configuration Number 177 ------------\n",
      "Time to build vocab: 0.02 mins\n",
      "Time to train the model: 20.96 mins\n",
      "Word2Vec(vocab=4325, size=150, alpha=0.03)\n",
      "------------ Configuration Number 178 ------------\n",
      "Time to build vocab: 0.02 mins\n",
      "Time to train the model: 20.99 mins\n",
      "Word2Vec(vocab=4325, size=150, alpha=0.03)\n",
      "------------ Configuration Number 179 ------------\n",
      "Time to build vocab: 0.02 mins\n",
      "Time to train the model: 9.56 mins\n",
      "Word2Vec(vocab=4325, size=150, alpha=0.03)\n",
      "------------ Configuration Number 180 ------------\n",
      "Time to build vocab: 0.02 mins\n",
      "Time to train the model: 1.23 mins\n",
      "Word2Vec(vocab=4325, size=150, alpha=0.03)\n"
     ]
    }
   ],
   "source": [
    "gridsearch = pd.DataFrame([], columns = ['size','window','negative','sample','precision'])\n",
    "\n",
    "cnt = 1\n",
    "for size in sizes:\n",
    "    for window in windows:\n",
    "        for negative in negatives:\n",
    "            for sample in samples:\n",
    "                print('------------ Configuration Number',cnt,'------------')\n",
    "                model,word_vectors = word2vec_model(train_model,size,window,negative,sample)\n",
    "                precision = calculate_precision_at_k(validation_model,model,word_vectors,5)\n",
    "                row = [size,window,negative,sample,precision]\n",
    "                gridsearch = pd.concat([gridsearch,pd.DataFrame([row], columns = list(gridsearch), index=[cnt])], axis = 0) \n",
    "                cnt+=1"
   ]
  },
  {
   "cell_type": "code",
   "execution_count": 70,
   "metadata": {
    "scrolled": true
   },
   "outputs": [
    {
     "data": {
      "text/html": [
       "<div>\n",
       "<style scoped>\n",
       "    .dataframe tbody tr th:only-of-type {\n",
       "        vertical-align: middle;\n",
       "    }\n",
       "\n",
       "    .dataframe tbody tr th {\n",
       "        vertical-align: top;\n",
       "    }\n",
       "\n",
       "    .dataframe thead th {\n",
       "        text-align: right;\n",
       "    }\n",
       "</style>\n",
       "<table border=\"1\" class=\"dataframe\">\n",
       "  <thead>\n",
       "    <tr style=\"text-align: right;\">\n",
       "      <th></th>\n",
       "      <th>size</th>\n",
       "      <th>window</th>\n",
       "      <th>negative</th>\n",
       "      <th>sample</th>\n",
       "      <th>precision</th>\n",
       "    </tr>\n",
       "  </thead>\n",
       "  <tbody>\n",
       "    <tr>\n",
       "      <th>10</th>\n",
       "      <td>50</td>\n",
       "      <td>8</td>\n",
       "      <td>20</td>\n",
       "      <td>0.001</td>\n",
       "      <td>0.265883</td>\n",
       "    </tr>\n",
       "    <tr>\n",
       "      <th>98</th>\n",
       "      <td>100</td>\n",
       "      <td>18</td>\n",
       "      <td>10</td>\n",
       "      <td>0.001</td>\n",
       "      <td>0.265759</td>\n",
       "    </tr>\n",
       "    <tr>\n",
       "      <th>9</th>\n",
       "      <td>50</td>\n",
       "      <td>8</td>\n",
       "      <td>20</td>\n",
       "      <td>0.010</td>\n",
       "      <td>0.264928</td>\n",
       "    </tr>\n",
       "    <tr>\n",
       "      <th>86</th>\n",
       "      <td>100</td>\n",
       "      <td>15</td>\n",
       "      <td>10</td>\n",
       "      <td>0.001</td>\n",
       "      <td>0.264886</td>\n",
       "    </tr>\n",
       "    <tr>\n",
       "      <th>102</th>\n",
       "      <td>100</td>\n",
       "      <td>18</td>\n",
       "      <td>15</td>\n",
       "      <td>0.001</td>\n",
       "      <td>0.264796</td>\n",
       "    </tr>\n",
       "  </tbody>\n",
       "</table>\n",
       "</div>"
      ],
      "text/plain": [
       "    size window negative  sample  precision\n",
       "10    50      8       20   0.001   0.265883\n",
       "98   100     18       10   0.001   0.265759\n",
       "9     50      8       20   0.010   0.264928\n",
       "86   100     15       10   0.001   0.264886\n",
       "102  100     18       15   0.001   0.264796"
      ]
     },
     "execution_count": 70,
     "metadata": {},
     "output_type": "execute_result"
    }
   ],
   "source": [
    "gridsearch.sort_values('precision',ascending = False).head(5)"
   ]
  },
  {
   "cell_type": "markdown",
   "metadata": {},
   "source": [
    "**Hyperparameters for item2vec model**"
   ]
  },
  {
   "cell_type": "code",
   "execution_count": 96,
   "metadata": {},
   "outputs": [
    {
     "name": "stderr",
     "output_type": "stream",
     "text": [
      "100%|████████████████████████████████████████████████████████████████████████████| 5878/5878 [00:02<00:00, 2532.48it/s]\n"
     ]
    }
   ],
   "source": [
    "# list to capture purchase history of the customers\n",
    "#create sequences of purchases made by the customers in the dataset\n",
    "train_item2vec = []\n",
    "\n",
    "# populate the list with the product codes\n",
    "for i in tqdm(set(train[\"Customer ID\"]), position=0, leave=True):\n",
    "    temp = train[train[\"Customer ID\"] == i][\"Transaction\"].tolist()\n",
    "    temp2 = [item for sublist in temp for item in sublist]\n",
    "    train_item2vec.append(temp2)"
   ]
  },
  {
   "cell_type": "code",
   "execution_count": 104,
   "metadata": {},
   "outputs": [],
   "source": [
    "sizes = [50,100,150,200]\n",
    "negatives = [10,15,20]\n",
    "samples = [1e-2,1e-3,1e-4,1e-5]"
   ]
  },
  {
   "cell_type": "code",
   "execution_count": 105,
   "metadata": {},
   "outputs": [
    {
     "name": "stdout",
     "output_type": "stream",
     "text": [
      "------------ Configuration Number 1 ------------\n",
      "Time to build vocab: 0.01 mins\n",
      "Time to train the model: 9.33 mins\n",
      "Word2Vec(vocab=4325, size=50, alpha=0.03)\n",
      "------------ Configuration Number 2 ------------\n",
      "Time to build vocab: 0.02 mins\n",
      "Time to train the model: 9.28 mins\n",
      "Word2Vec(vocab=4325, size=50, alpha=0.03)\n",
      "------------ Configuration Number 3 ------------\n",
      "Time to build vocab: 0.02 mins\n",
      "Time to train the model: 4.15 mins\n",
      "Word2Vec(vocab=4325, size=50, alpha=0.03)\n",
      "------------ Configuration Number 4 ------------\n",
      "Time to build vocab: 0.02 mins\n",
      "Time to train the model: 0.52 mins\n",
      "Word2Vec(vocab=4325, size=50, alpha=0.03)\n",
      "------------ Configuration Number 5 ------------\n",
      "Time to build vocab: 0.02 mins\n",
      "Time to train the model: 13.22 mins\n",
      "Word2Vec(vocab=4325, size=50, alpha=0.03)\n",
      "------------ Configuration Number 6 ------------\n",
      "Time to build vocab: 0.02 mins\n",
      "Time to train the model: 12.99 mins\n",
      "Word2Vec(vocab=4325, size=50, alpha=0.03)\n",
      "------------ Configuration Number 7 ------------\n",
      "Time to build vocab: 0.02 mins\n",
      "Time to train the model: 5.91 mins\n",
      "Word2Vec(vocab=4325, size=50, alpha=0.03)\n",
      "------------ Configuration Number 8 ------------\n",
      "Time to build vocab: 0.02 mins\n",
      "Time to train the model: 0.72 mins\n",
      "Word2Vec(vocab=4325, size=50, alpha=0.03)\n",
      "------------ Configuration Number 9 ------------\n",
      "Time to build vocab: 0.02 mins\n",
      "Time to train the model: 17.06 mins\n",
      "Word2Vec(vocab=4325, size=50, alpha=0.03)\n",
      "------------ Configuration Number 10 ------------\n",
      "Time to build vocab: 0.02 mins\n",
      "Time to train the model: 17.06 mins\n",
      "Word2Vec(vocab=4325, size=50, alpha=0.03)\n",
      "------------ Configuration Number 11 ------------\n",
      "Time to build vocab: 0.02 mins\n",
      "Time to train the model: 7.61 mins\n",
      "Word2Vec(vocab=4325, size=50, alpha=0.03)\n",
      "------------ Configuration Number 12 ------------\n",
      "Time to build vocab: 0.02 mins\n",
      "Time to train the model: 0.94 mins\n",
      "Word2Vec(vocab=4325, size=50, alpha=0.03)\n",
      "------------ Configuration Number 13 ------------\n",
      "Time to build vocab: 0.02 mins\n",
      "Time to train the model: 10.13 mins\n",
      "Word2Vec(vocab=4325, size=100, alpha=0.03)\n",
      "------------ Configuration Number 14 ------------\n",
      "Time to build vocab: 0.02 mins\n",
      "Time to train the model: 10.06 mins\n",
      "Word2Vec(vocab=4325, size=100, alpha=0.03)\n",
      "------------ Configuration Number 15 ------------\n",
      "Time to build vocab: 0.02 mins\n",
      "Time to train the model: 4.54 mins\n",
      "Word2Vec(vocab=4325, size=100, alpha=0.03)\n",
      "------------ Configuration Number 16 ------------\n",
      "Time to build vocab: 0.02 mins\n",
      "Time to train the model: 0.6 mins\n",
      "Word2Vec(vocab=4325, size=100, alpha=0.03)\n",
      "------------ Configuration Number 17 ------------\n",
      "Time to build vocab: 0.02 mins\n",
      "Time to train the model: 14.53 mins\n",
      "Word2Vec(vocab=4325, size=100, alpha=0.03)\n",
      "------------ Configuration Number 18 ------------\n",
      "Time to build vocab: 0.02 mins\n",
      "Time to train the model: 14.37 mins\n",
      "Word2Vec(vocab=4325, size=100, alpha=0.03)\n",
      "------------ Configuration Number 19 ------------\n",
      "Time to build vocab: 0.02 mins\n",
      "Time to train the model: 6.45 mins\n",
      "Word2Vec(vocab=4325, size=100, alpha=0.03)\n",
      "------------ Configuration Number 20 ------------\n",
      "Time to build vocab: 0.02 mins\n",
      "Time to train the model: 0.87 mins\n",
      "Word2Vec(vocab=4325, size=100, alpha=0.03)\n",
      "------------ Configuration Number 21 ------------\n",
      "Time to build vocab: 0.02 mins\n",
      "Time to train the model: 18.55 mins\n",
      "Word2Vec(vocab=4325, size=100, alpha=0.03)\n",
      "------------ Configuration Number 22 ------------\n",
      "Time to build vocab: 0.02 mins\n",
      "Time to train the model: 18.32 mins\n",
      "Word2Vec(vocab=4325, size=100, alpha=0.03)\n",
      "------------ Configuration Number 23 ------------\n",
      "Time to build vocab: 0.02 mins\n",
      "Time to train the model: 8.31 mins\n",
      "Word2Vec(vocab=4325, size=100, alpha=0.03)\n",
      "------------ Configuration Number 24 ------------\n",
      "Time to build vocab: 0.02 mins\n",
      "Time to train the model: 1.08 mins\n",
      "Word2Vec(vocab=4325, size=100, alpha=0.03)\n",
      "------------ Configuration Number 25 ------------\n",
      "Time to build vocab: 0.02 mins\n",
      "Time to train the model: 11.57 mins\n",
      "Word2Vec(vocab=4325, size=150, alpha=0.03)\n",
      "------------ Configuration Number 26 ------------\n",
      "Time to build vocab: 0.02 mins\n",
      "Time to train the model: 11.41 mins\n",
      "Word2Vec(vocab=4325, size=150, alpha=0.03)\n",
      "------------ Configuration Number 27 ------------\n",
      "Time to build vocab: 0.02 mins\n",
      "Time to train the model: 5.28 mins\n",
      "Word2Vec(vocab=4325, size=150, alpha=0.03)\n",
      "------------ Configuration Number 28 ------------\n",
      "Time to build vocab: 0.02 mins\n",
      "Time to train the model: 0.65 mins\n",
      "Word2Vec(vocab=4325, size=150, alpha=0.03)\n",
      "------------ Configuration Number 29 ------------\n",
      "Time to build vocab: 0.02 mins\n",
      "Time to train the model: 17.14 mins\n",
      "Word2Vec(vocab=4325, size=150, alpha=0.03)\n",
      "------------ Configuration Number 30 ------------\n",
      "Time to build vocab: 0.02 mins\n",
      "Time to train the model: 16.19 mins\n",
      "Word2Vec(vocab=4325, size=150, alpha=0.03)\n",
      "------------ Configuration Number 31 ------------\n",
      "Time to build vocab: 0.02 mins\n",
      "Time to train the model: 7.37 mins\n",
      "Word2Vec(vocab=4325, size=150, alpha=0.03)\n",
      "------------ Configuration Number 32 ------------\n",
      "Time to build vocab: 0.02 mins\n",
      "Time to train the model: 0.96 mins\n",
      "Word2Vec(vocab=4325, size=150, alpha=0.03)\n",
      "------------ Configuration Number 33 ------------\n",
      "Time to build vocab: 0.02 mins\n",
      "Time to train the model: 21.2 mins\n",
      "Word2Vec(vocab=4325, size=150, alpha=0.03)\n",
      "------------ Configuration Number 34 ------------\n",
      "Time to build vocab: 0.02 mins\n",
      "Time to train the model: 20.84 mins\n",
      "Word2Vec(vocab=4325, size=150, alpha=0.03)\n",
      "------------ Configuration Number 35 ------------\n",
      "Time to build vocab: 0.02 mins\n",
      "Time to train the model: 9.66 mins\n",
      "Word2Vec(vocab=4325, size=150, alpha=0.03)\n",
      "------------ Configuration Number 36 ------------\n",
      "Time to build vocab: 0.02 mins\n",
      "Time to train the model: 1.18 mins\n",
      "Word2Vec(vocab=4325, size=150, alpha=0.03)\n",
      "------------ Configuration Number 37 ------------\n",
      "Time to build vocab: 0.02 mins\n",
      "Time to train the model: 11.57 mins\n",
      "Word2Vec(vocab=4325, size=200, alpha=0.03)\n",
      "------------ Configuration Number 38 ------------\n",
      "Time to build vocab: 0.02 mins\n",
      "Time to train the model: 11.5 mins\n",
      "Word2Vec(vocab=4325, size=200, alpha=0.03)\n",
      "------------ Configuration Number 39 ------------\n",
      "Time to build vocab: 0.02 mins\n",
      "Time to train the model: 5.19 mins\n",
      "Word2Vec(vocab=4325, size=200, alpha=0.03)\n",
      "------------ Configuration Number 40 ------------\n",
      "Time to build vocab: 0.02 mins\n",
      "Time to train the model: 0.64 mins\n",
      "Word2Vec(vocab=4325, size=200, alpha=0.03)\n",
      "------------ Configuration Number 41 ------------\n",
      "Time to build vocab: 0.02 mins\n",
      "Time to train the model: 16.29 mins\n",
      "Word2Vec(vocab=4325, size=200, alpha=0.03)\n",
      "------------ Configuration Number 42 ------------\n",
      "Time to build vocab: 0.02 mins\n",
      "Time to train the model: 16.11 mins\n",
      "Word2Vec(vocab=4325, size=200, alpha=0.03)\n",
      "------------ Configuration Number 43 ------------\n",
      "Time to build vocab: 0.02 mins\n",
      "Time to train the model: 7.33 mins\n",
      "Word2Vec(vocab=4325, size=200, alpha=0.03)\n",
      "------------ Configuration Number 44 ------------\n",
      "Time to build vocab: 0.02 mins\n",
      "Time to train the model: 0.91 mins\n",
      "Word2Vec(vocab=4325, size=200, alpha=0.03)\n",
      "------------ Configuration Number 45 ------------\n",
      "Time to build vocab: 0.02 mins\n",
      "Time to train the model: 21.17 mins\n",
      "Word2Vec(vocab=4325, size=200, alpha=0.03)\n",
      "------------ Configuration Number 46 ------------\n",
      "Time to build vocab: 0.02 mins\n",
      "Time to train the model: 20.75 mins\n",
      "Word2Vec(vocab=4325, size=200, alpha=0.03)\n",
      "------------ Configuration Number 47 ------------\n",
      "Time to build vocab: 0.02 mins\n",
      "Time to train the model: 9.42 mins\n",
      "Word2Vec(vocab=4325, size=200, alpha=0.03)\n",
      "------------ Configuration Number 48 ------------\n",
      "Time to build vocab: 0.02 mins\n",
      "Time to train the model: 1.21 mins\n",
      "Word2Vec(vocab=4325, size=200, alpha=0.03)\n"
     ]
    }
   ],
   "source": [
    "gridsearch_item2vec = pd.DataFrame([], columns = ['size','negative','sample','precision'])\n",
    "\n",
    "cnt = 1\n",
    "for size in sizes:\n",
    "    for negative in negatives:\n",
    "        for sample in samples:\n",
    "            print('------------ Configuration Number',cnt,'------------')\n",
    "            model_item2vec,word_vectors_item2vec = word2vec_model(train_item2vec,size,max_sent,negative,sample)\n",
    "            precision = calculate_precision_at_k(validation_model,model_item2vec,word_vectors_item2vec,5)\n",
    "            row = [size,negative,sample,precision]\n",
    "            gridsearch_item2vec = pd.concat([gridsearch_item2vec,pd.DataFrame([row], columns = list(gridsearch_item2vec), index=[cnt])], axis = 0) \n",
    "            cnt+=1"
   ]
  },
  {
   "cell_type": "code",
   "execution_count": 106,
   "metadata": {},
   "outputs": [
    {
     "data": {
      "text/html": [
       "<div>\n",
       "<style scoped>\n",
       "    .dataframe tbody tr th:only-of-type {\n",
       "        vertical-align: middle;\n",
       "    }\n",
       "\n",
       "    .dataframe tbody tr th {\n",
       "        vertical-align: top;\n",
       "    }\n",
       "\n",
       "    .dataframe thead th {\n",
       "        text-align: right;\n",
       "    }\n",
       "</style>\n",
       "<table border=\"1\" class=\"dataframe\">\n",
       "  <thead>\n",
       "    <tr style=\"text-align: right;\">\n",
       "      <th></th>\n",
       "      <th>size</th>\n",
       "      <th>negative</th>\n",
       "      <th>sample</th>\n",
       "      <th>precision</th>\n",
       "    </tr>\n",
       "  </thead>\n",
       "  <tbody>\n",
       "    <tr>\n",
       "      <th>25</th>\n",
       "      <td>150</td>\n",
       "      <td>10</td>\n",
       "      <td>0.010</td>\n",
       "      <td>0.255236</td>\n",
       "    </tr>\n",
       "    <tr>\n",
       "      <th>26</th>\n",
       "      <td>150</td>\n",
       "      <td>10</td>\n",
       "      <td>0.001</td>\n",
       "      <td>0.255208</td>\n",
       "    </tr>\n",
       "    <tr>\n",
       "      <th>37</th>\n",
       "      <td>200</td>\n",
       "      <td>10</td>\n",
       "      <td>0.010</td>\n",
       "      <td>0.255180</td>\n",
       "    </tr>\n",
       "    <tr>\n",
       "      <th>38</th>\n",
       "      <td>200</td>\n",
       "      <td>10</td>\n",
       "      <td>0.001</td>\n",
       "      <td>0.254737</td>\n",
       "    </tr>\n",
       "    <tr>\n",
       "      <th>29</th>\n",
       "      <td>150</td>\n",
       "      <td>15</td>\n",
       "      <td>0.010</td>\n",
       "      <td>0.254613</td>\n",
       "    </tr>\n",
       "  </tbody>\n",
       "</table>\n",
       "</div>"
      ],
      "text/plain": [
       "   size negative  sample  precision\n",
       "25  150       10   0.010   0.255236\n",
       "26  150       10   0.001   0.255208\n",
       "37  200       10   0.010   0.255180\n",
       "38  200       10   0.001   0.254737\n",
       "29  150       15   0.010   0.254613"
      ]
     },
     "execution_count": 106,
     "metadata": {},
     "output_type": "execute_result"
    }
   ],
   "source": [
    "gridsearch_item2vec.sort_values('precision',ascending = False).head(5)"
   ]
  },
  {
   "cell_type": "markdown",
   "metadata": {},
   "source": [
    "## Quantitative comparison between our model to other models\n",
    "\n",
    "We compare our model to Item-Based CF and Item2vec model using precision@k measure"
   ]
  },
  {
   "cell_type": "markdown",
   "metadata": {},
   "source": [
    "Create a train set to each model"
   ]
  },
  {
   "cell_type": "code",
   "execution_count": 71,
   "metadata": {},
   "outputs": [],
   "source": [
    "train_w2v = train_model+validation_model\n",
    "train_i2v = train.append(validation)\n",
    "train_cf = df[df['Invoice'].isin(set(list(train['Invoice'])+list(validation['Invoice'])))]"
   ]
  },
  {
   "cell_type": "markdown",
   "metadata": {},
   "source": [
    "### Word2vec based Recommender System"
   ]
  },
  {
   "cell_type": "code",
   "execution_count": 78,
   "metadata": {},
   "outputs": [
    {
     "name": "stdout",
     "output_type": "stream",
     "text": [
      "Time to build vocab: 0.01 mins\n",
      "Time to train the model: 3.36 mins\n",
      "Word2Vec(vocab=4379, size=50, alpha=0.03)\n"
     ]
    }
   ],
   "source": [
    "model,word_vectors = word2vec_model(train_w2v,50,8,20,0.001)"
   ]
  },
  {
   "cell_type": "markdown",
   "metadata": {},
   "source": [
    "#### TopK"
   ]
  },
  {
   "cell_type": "code",
   "execution_count": 79,
   "metadata": {},
   "outputs": [
    {
     "data": {
      "text/plain": [
       "0.258311986863711"
      ]
     },
     "execution_count": 79,
     "metadata": {},
     "output_type": "execute_result"
    }
   ],
   "source": [
    "# when not excluding the products that already appeared in the transaction\n",
    "precision_5_word2vec = calculate_precision_at_k(test_model,model,word_vectors,5)\n",
    "precision_5_word2vec"
   ]
  },
  {
   "cell_type": "code",
   "execution_count": 1011,
   "metadata": {},
   "outputs": [
    {
     "data": {
      "text/plain": [
       "0.24796059113300492"
      ]
     },
     "execution_count": 1011,
     "metadata": {},
     "output_type": "execute_result"
    }
   ],
   "source": [
    "# when excluding the products that already appeared in the transaction\n",
    "# precision_e_5_word2vec = calculate_precision_at_k(test_model,model,word_vectors,5)\n",
    "# precision_e_5_word2vec"
   ]
  },
  {
   "cell_type": "code",
   "execution_count": 80,
   "metadata": {
    "scrolled": true
   },
   "outputs": [
    {
     "data": {
      "text/plain": [
       "0.31919868637110016"
      ]
     },
     "execution_count": 80,
     "metadata": {},
     "output_type": "execute_result"
    }
   ],
   "source": [
    "# when not excluding the products that already appeared in the transaction\n",
    "precision_10_word2vec = calculate_precision_at_k(test_model,model,word_vectors,10)\n",
    "precision_10_word2vec"
   ]
  },
  {
   "cell_type": "markdown",
   "metadata": {},
   "source": [
    "#### AggregateK - recommend based on the multiple purchases that were in the transaction so far"
   ]
  },
  {
   "cell_type": "code",
   "execution_count": 1019,
   "metadata": {},
   "outputs": [
    {
     "data": {
      "text/plain": [
       "0.06895238095238095"
      ]
     },
     "execution_count": 1019,
     "metadata": {},
     "output_type": "execute_result"
    }
   ],
   "source": [
    "# when not excluding the products that already appeared in the transaction\n",
    "# precision2_5_word2vec = calculate_precision_at_k(test_model,model,word_vectors,5,True)\n",
    "# precision2_5_word2vec"
   ]
  },
  {
   "cell_type": "code",
   "execution_count": 81,
   "metadata": {},
   "outputs": [
    {
     "data": {
      "text/plain": [
       "0.0917832512315271"
      ]
     },
     "execution_count": 81,
     "metadata": {},
     "output_type": "execute_result"
    }
   ],
   "source": [
    "# when excluding the products that already appeared in the transaction\n",
    "precision2_5_word2vec = calculate_precision_at_k(test_model,model,word_vectors,5,True)\n",
    "precision2_5_word2vec"
   ]
  },
  {
   "cell_type": "code",
   "execution_count": 82,
   "metadata": {},
   "outputs": [
    {
     "data": {
      "text/plain": [
       "0.13485714285714287"
      ]
     },
     "execution_count": 82,
     "metadata": {},
     "output_type": "execute_result"
    }
   ],
   "source": [
    "# when excluding the products that already appeared in the transaction\n",
    "precision2_10_word2vec = calculate_precision_at_k(test_model,model,word_vectors,10,True)\n",
    "precision2_10_word2vec"
   ]
  },
  {
   "cell_type": "markdown",
   "metadata": {},
   "source": [
    "### Qualitive Evaluation"
   ]
  },
  {
   "cell_type": "markdown",
   "metadata": {},
   "source": [
    "We will try to see the quality of our recommendation model by passing the vector of the product '90019A' ('SILVER M.O.P ORBIT BRACELET')"
   ]
  },
  {
   "cell_type": "code",
   "execution_count": 182,
   "metadata": {},
   "outputs": [
    {
     "data": {
      "text/plain": [
       "['SILVER M.O.P ORBIT BRACELET']"
      ]
     },
     "execution_count": 182,
     "metadata": {},
     "output_type": "execute_result"
    }
   ],
   "source": [
    "products_dict['90019A']"
   ]
  },
  {
   "cell_type": "code",
   "execution_count": 135,
   "metadata": {
    "scrolled": false
   },
   "outputs": [
    {
     "data": {
      "text/plain": [
       "['SILVER M.O.P ORBIT DROP EARRINGS',\n",
       " 'SILVER 2 STRAND NECKLACE-LEAF CHARM',\n",
       " 'BLUE SHELL+SILVER NECKLACE',\n",
       " 'PINK ROSEBUD & PEARL NECKLACE',\n",
       " 'GOLD M.O.P ORBIT BRACELET']"
      ]
     },
     "execution_count": 135,
     "metadata": {},
     "output_type": "execute_result"
    }
   ],
   "source": [
    "top_k_similar_products(model['90019A'],model,5)"
   ]
  },
  {
   "cell_type": "markdown",
   "metadata": {},
   "source": [
    "### Visualize word2vec Embeddings"
   ]
  },
  {
   "cell_type": "markdown",
   "metadata": {},
   "source": [
    "Now we will extract the vectors of all the words in our vocabulary and store it in one place for easy access."
   ]
  },
  {
   "cell_type": "code",
   "execution_count": 60,
   "metadata": {},
   "outputs": [
    {
     "data": {
      "text/plain": [
       "(4379, 100)"
      ]
     },
     "execution_count": 60,
     "metadata": {},
     "output_type": "execute_result"
    }
   ],
   "source": [
    "# extract all vectors\n",
    "X = model[model.wv.vocab]\n",
    "\n",
    "X.shape"
   ]
  },
  {
   "cell_type": "markdown",
   "metadata": {},
   "source": [
    "We visualize the embeddings we created. Over here we have 50 dimensional embeddings. We can't even visualize it. Therefore, we are going to reduce the dimensions of the product embeddings from 50 to 2 by using the UMAP algorithm, it is used for dimensionality reduction. Then, we will plot our result. "
   ]
  },
  {
   "cell_type": "code",
   "execution_count": 170,
   "metadata": {},
   "outputs": [
    {
     "data": {
      "image/png": "[encoded data removed]",
      "text/plain": [
       "<Figure size 1080x1080 with 1 Axes>"
      ]
     },
     "metadata": {
      "needs_background": "light"
     },
     "output_type": "display_data"
    }
   ],
   "source": [
    "import umap\n",
    "\n",
    "cluster_embedding = umap.UMAP(n_neighbors=30, min_dist=0.0,\n",
    "                              n_components=2, random_state=42).fit_transform(X)\n",
    "\n",
    "plt.figure(figsize=(15,15))\n",
    "plt.scatter(cluster_embedding[:, 0], cluster_embedding[:, 1], cmap='Spectral', marker = 'o', alpha=0.5)\n",
    "plt.xticks(range(0,11,1),fontsize=20)\n",
    "plt.yticks(range(0,10,1),fontsize=20)\n",
    "plt.savefig('visualization.pdf', bbox_inches='tight')"
   ]
  },
  {
   "cell_type": "markdown",
   "metadata": {},
   "source": [
    "Every dot in this plot is a product. There are several tiny clusters of these datapoints. These are groups of similar products. We will try to identify the isolated groups."
   ]
  },
  {
   "cell_type": "code",
   "execution_count": 175,
   "metadata": {},
   "outputs": [],
   "source": [
    "labels = [products_dict[i] for i in model.wv.vocab.keys()]\n",
    "x = cluster_embedding[:, 0]\n",
    "y = cluster_embedding[:, 1]"
   ]
  },
  {
   "cell_type": "code",
   "execution_count": 177,
   "metadata": {},
   "outputs": [],
   "source": [
    "vis_embedding = pd.DataFrame([], columns = ['x','y','label'])\n",
    "vis_embedding['x'] = x\n",
    "vis_embedding['y'] = y\n",
    "vis_embedding['label'] = labels"
   ]
  },
  {
   "cell_type": "code",
   "execution_count": 180,
   "metadata": {
    "scrolled": true
   },
   "outputs": [
    {
     "data": {
      "text/plain": [
       "[['WRAP ENGLISH ROSE '],\n",
       " ['WRAP BLUE RUSSIAN FOLKART'],\n",
       " ['GREETING CARD, THE BLACK CAT'],\n",
       " ['RAINY LADIES BIRTHDAY CARD'],\n",
       " ['BANQUET BIRTHDAY  CARD  '],\n",
       " ['SPACEBOY BIRTHDAY CARD'],\n",
       " ['RING OF ROSES BIRTHDAY CARD'],\n",
       " ['BOTANICAL LAVENDER BIRTHDAY CARD'],\n",
       " ['SKULLS AND CROSSBONES WRAP'],\n",
       " ['RED RETROSPOT WRAP '],\n",
       " ['SWALLOWS GREETING CARD'],\n",
       " ['PENNY FARTHING BIRTHDAY CARD'],\n",
       " ['WRAP, FRIENDSHIP ON GREEN'],\n",
       " ['ROBOT BIRTHDAY CARD'],\n",
       " ['DINOSAUR BIRTHDAY CARD'],\n",
       " ['PINK POLKADOT WRAP '],\n",
       " ['GREETING CARD, RITA'],\n",
       " ['VINTAGE CARAVAN GREETING CARD '],\n",
       " ['VINTAGE KID DOLLY CARD '],\n",
       " ['TEA PARTY BIRTHDAY CARD'],\n",
       " ['BLUE POLKADOT WRAP'],\n",
       " ['WRAP SUKI AND FRIENDS'],\n",
       " ['FANCY FONTS BIRTHDAY WRAP'],\n",
       " ['BLUE SCANDINAVIAN PAISLEY WRAP'],\n",
       " ['EMPIRE BIRTHDAY CARD'],\n",
       " ['WRAP PINK FAIRY CAKES '],\n",
       " ['SKULLS GREETING CARD'],\n",
       " ['FAIRY CAKE GREETINGS CARD'],\n",
       " ['TEA PARTY  WRAPPING PAPER '],\n",
       " ['ELEPHANT BIRTHDAY CARD '],\n",
       " ['GIN & TONIC DIET GREETING CARD '],\n",
       " ['BANK ACCOUNT  GREETING  CARD '],\n",
       " ['EMPIRE GIFT WRAP'],\n",
       " ['FOLK ART GREETING CARD,pack/12'],\n",
       " ['WRAP DAISY CARPET '],\n",
       " ['BOTANICAL ROSE GREETING CARD'],\n",
       " ['BOTANICAL LILY GREETING CARD'],\n",
       " ['WRAP  PINK FLOCK'],\n",
       " ['COWBOYS AND INDIANS BIRTHDAY CARD '],\n",
       " ['FANCY FONT BIRTHDAY CARD, '],\n",
       " ['DECOUPAGE,GREETING CARD,'],\n",
       " ['SPACEBOY GIFT WRAP'],\n",
       " ['BIRTHDAY BANQUET GIFT WRAP'],\n",
       " ['PINK PAISLEY ROSE GIFT WRAP'],\n",
       " ['VINTAGE CARAVAN GIFT WRAP'],\n",
       " ['BOTANICAL ROSE GIFT WRAP'],\n",
       " ['WRAP GREEN RUSSIAN FOLKART '],\n",
       " ['WRAP FOLK ART'],\n",
       " ['CANDY SPOT CUSHION COVER'],\n",
       " ['FAWN AND MUSHROOM GREETING CARD'],\n",
       " ['BOOZE & WOMEN GREETING CARD '],\n",
       " ['GREETING CARD, TWO SISTERS.'],\n",
       " ['TOYBOX  WRAP '],\n",
       " ['PACK/12 DECOUPAGE CARD'],\n",
       " ['BOTANICAL LILY GIFT WRAP'],\n",
       " ['BOTANICAL LAVENDER GIFT WRAP '],\n",
       " ['WRAP CAROUSEL'],\n",
       " ['GREETING CARD, OVERCROWDED POOL.'],\n",
       " ['PACK/12 BLUE FOLKART CARDS'],\n",
       " ['WRAP BAD HAIR DAY'],\n",
       " ['GREETING CARD,SQUARE, DOUGHNUTS'],\n",
       " ['GREETING CARD, STICKY GORDON'],\n",
       " ['WRAP MONSTER FUN '],\n",
       " ['WRAP GREEN PEARS '],\n",
       " ['WRAP RED APPLES '],\n",
       " ['WRAP CIRCUS PARADE'],\n",
       " ['WRAP I LOVE LONDON '],\n",
       " ['CARD I LOVE LONDON '],\n",
       " ['CARD DOLLY GIRL '],\n",
       " ['CARD BIRTHDAY COWBOY'],\n",
       " ['CARD CIRCUS PARADE'],\n",
       " ['CARD WEDDING DAY'],\n",
       " ['CARD CAT AND TREE '],\n",
       " ['WRAP COWBOYS  '],\n",
       " ['WRAP DOLLY GIRL'],\n",
       " ['WRAP WEDDING DAY'],\n",
       " ['CARD DOG AND BALL '],\n",
       " ['WRAP BILLBOARD FONTS DESIGN'],\n",
       " ['WRAP GINGHAM ROSE '],\n",
       " ['WRAP SUMMER ROSE DESIGN'],\n",
       " ['CARD GINGHAM ROSE '],\n",
       " ['GIFT BAG PSYCHEDELIC APPLES'],\n",
       " ['GIFT BAG BIRTHDAY'],\n",
       " ['CARD PSYCHEDELIC APPLES'],\n",
       " ['CARD SUKI BIRTHDAY'],\n",
       " ['CARD BILLBOARD FONT'],\n",
       " ['BIRTHDAY CARD, RETRO SPOT'],\n",
       " ['CARD PARTY GAMES '],\n",
       " ['WRAP  VINTAGE DOILY '],\n",
       " ['WRAP ALPHABET DESIGN'],\n",
       " ['WRAP POPPIES  DESIGN'],\n",
       " ['WRAP VINTAGE LEAF DESIGN'],\n",
       " ['WRAP FLOWER SHOP  '],\n",
       " ['WRAP ALPHABET POSTER  '],\n",
       " ['WRAP MAGIC FOREST '],\n",
       " ['WRAP PAISLEY PARK '],\n",
       " ['WRAP RED VINTAGE DOILY'],\n",
       " ['WRAP BIRD GARDEN '],\n",
       " ['A PRETTY THANK YOU CARD'],\n",
       " ['DOILY THANK YOU CARD'],\n",
       " ['SNACK TRAY I LOVE LONDON']]"
      ]
     },
     "execution_count": 180,
     "metadata": {},
     "output_type": "execute_result"
    }
   ],
   "source": [
    "# Party items\n",
    "list(vis_embedding[(vis_embedding['x']<3)]['label'])"
   ]
  },
  {
   "cell_type": "code",
   "execution_count": 183,
   "metadata": {},
   "outputs": [
    {
     "data": {
      "text/plain": [
       "[['PINK SWEETHEART BRACELET'],\n",
       " ['PURPLE SWEETHEART BRACELET'],\n",
       " ['BLUE SWEETHEART BRACELET'],\n",
       " ['BLACK SWEETHEART BRACELET'],\n",
       " ['BLACK DIAMANTE EXPANDABLE RING'],\n",
       " ['CRYSTAL PAIR HEART HAIR SLIDES'],\n",
       " ['OPULENT VELVET CANDLE IN BOX'],\n",
       " ['VINTAGE ROSE BEAD BRACELET BLUE'],\n",
       " ['WHITE GLASS CHUNKY CHARM BRACELET'],\n",
       " ['BLACK GEMSTONE BRACELET'],\n",
       " ['CARNIVAL BRACELET'],\n",
       " ['SILVER HOOP EARRINGS WITH FLOWER'],\n",
       " ['RASPBERRY ANT COPPER FLOWER NECKLAC'],\n",
       " [\"NEW BAROQUE B'FLY NECKLACE RED\"],\n",
       " ['FLOWER GLASS GARLAND NECKL.36\"BLACK'],\n",
       " ['TURQUOISE BERTIE GLASS BEAD CHARM'],\n",
       " ['FRESHWATER PEARL BRACELET PINK'],\n",
       " ['FRESHWATER PEARL BRACELET GOLD'],\n",
       " ['PEARL & SHELL 42\"NECKL. IVORY'],\n",
       " ['PEARL & SHELL 42\"NECKL. PINK'],\n",
       " ['LONG SILVER NECKLACE PASTEL FLOWER'],\n",
       " ['SILVER CHARM NECKLACE 70CM'],\n",
       " ['BLACK+WHITE NECKLACE W TASSEL'],\n",
       " ['CHUNKY SILVER NECKLACE PASTEL FLOWE'],\n",
       " ['FLOWER BURST SILVER RING GREEN'],\n",
       " ['FLOWER BURST SILVER RING ROSE'],\n",
       " ['FLOWER BURST SILVER RING CRYSTAL'],\n",
       " [\"FLOWER BURST SILVER RING MIDN'T BLU\"],\n",
       " ['TIGRIS EYE CHUNKY CHARM BRACELET'],\n",
       " ['SILVER/CRYSTAL DROP EARRINGS W LEAF'],\n",
       " ['RUBY DROP CHANDELIER EARRINGS'],\n",
       " ['VINTAGE ENAMEL & CRYSTAL EARRINGS'],\n",
       " ['SILVER AND BLACK ORBIT NECKLACE'],\n",
       " ['GOLD/AMBER DROP EARRINGS W LEAF'],\n",
       " ['AMBER CHUNKY GLASS+BEAD NECKLACE'],\n",
       " ['SILVER BLACK ORBIT BRACELET'],\n",
       " [\"NEW BAROQUE B'FLY NECKLACE GREEN\"],\n",
       " ['BLACK CRYSTAL DROP EARRINGS'],\n",
       " ['FLOWER GLASS GARLAND NECKL.36\"BLUE'],\n",
       " ['AMETHYST CHUNKY BEAD BRACELET W STR'],\n",
       " ['MURANO STYLE GLASS BRACELET PINK'],\n",
       " ['GREEN MURANO TWIST BRACELET'],\n",
       " ['MURANO STYLE GLASS BRACELET GOLD'],\n",
       " ['MURANO STYLE GLASS BRACELET RED'],\n",
       " ['AMBER CHUNKY BEAD BRACELET W STRAP'],\n",
       " ['BLACK CHUNKY BEAD BRACELET W STRAP'],\n",
       " ['MIDNIGHT BLUE GLASS/SILVER BRACELET'],\n",
       " ['BLACK GEMSTONE NECKLACE 45CM'],\n",
       " ['PURPLE GEMSTONE BRACELET'],\n",
       " ['PURPLE GEMSTONE NECKLACE 45CM'],\n",
       " ['NEW BAROQUE SMALL NECKLACE BLACK'],\n",
       " ['ORANGE PENDANT TRIPLE SHELL NECKLAC'],\n",
       " ['GREEN PENDANT TRIPLE SHELL NECKLACE'],\n",
       " ['TURQ PENDANT TRIPLE SHELL NECKLACE'],\n",
       " ['ANTIQUE OLIVE GREEN FLOWER EARRINGS'],\n",
       " ['COPPER/OLIVE GREEN FLOWER NECKLACE'],\n",
       " ['ANT COPPER PINK BOUDICCA BRACELET'],\n",
       " ['ANT COPPER RED BOUDICCA BRACELET'],\n",
       " ['ANT COPPER LIME BOUDICCA BRACELET'],\n",
       " ['PINK BOUDICCA LARGE BRACELET'],\n",
       " ['ANT COPPER TURQ BOUDICCA BRACELET'],\n",
       " ['JADE CRYSTAL+GLASS BRACELET'],\n",
       " ['3 BLACK CATS W HEARTS BLANK CARD'],\n",
       " ['CHAMPAGNE TRAY BLANK CARD'],\n",
       " ['HAPPY BIRTHDAY CARD STRIPEY TEDDY'],\n",
       " ['BLUE/GREEN SHELL NECKLACE W PENDANT'],\n",
       " ['BLUE SHELL+SILVER NECKLACE'],\n",
       " ['BLACK/WHITE GLASS/SILVER BRACELET'],\n",
       " ['AMBER GLASS/SILVER BRACELET'],\n",
       " [\"COTE D'AZURE NECKLACE\"],\n",
       " ['PURPLE FINE BEAD NECKLACE W TASSEL'],\n",
       " ['FLOWER BURST SILVER RING OPAL'],\n",
       " ['PEARL & SHELL 42\"NECKL. GREEN'],\n",
       " ['BLUE MURANO TWIST BRACELET'],\n",
       " ['PINK MURANO TWIST BRACELET'],\n",
       " ['GLASS BEAD HOOP EARRINGS MONTANA'],\n",
       " ['CRYSTAL STUD EARRINGS CLEAR DISPLAY'],\n",
       " ['SILVER LARIAT BLACK STONE EARRINGS'],\n",
       " ['MURANO STYLE GLASS BRACELET BLACK'],\n",
       " ['WHITE/PINK MINI CRYSTALS NECKLACE'],\n",
       " ['PINK COMBO MINI CRYSTALS NECKLACE'],\n",
       " ['DROP DIAMANTE EARRINGS CRYSTAL'],\n",
       " ['DROP DIAMANTE EARRINGS BLACK DIAMON'],\n",
       " ['DROP DIAMANTE EARRINGS PURPLE'],\n",
       " ['DROP DIAMANTE EARRINGS GREEN'],\n",
       " ['GLASS BEAD HOOP NECKLACE GREEN'],\n",
       " ['RUBY GLASS CLUSTER NECKLACE'],\n",
       " ['MIDNIGHT BLUE COPPER FLOWER NECKLAC'],\n",
       " [\"NEW BAROQUE B'FLY NECKLACE MONTANA\"],\n",
       " ['WHITE VINTAGE CRYSTAL BRACELET'],\n",
       " [\"NEW BAROQUE B'FLY NECKLACE PINK\"],\n",
       " ['GLASS BEAD HOOP NECKLACE MONTANA'],\n",
       " ['PURPLE AMETHYST NECKLACE W TASSEL'],\n",
       " ['PURPLE LAS VEGAS BRACELET ROUND'],\n",
       " ['PURPLE ENAMEL FLOWER RING'],\n",
       " ['PINK SWEETIE NECKLACE'],\n",
       " ['FINE SILVER NECKLACE W PASTEL FLOWE'],\n",
       " ['PINK HEART OF GLASS BRACELET'],\n",
       " ['SILVER/AMETHYST DROP EARRINGS LEAF'],\n",
       " ['AMETHYST HOOP EARRING FLORAL LEAF'],\n",
       " ['GREEN WITH METAL BAG CHARM'],\n",
       " ['GOLD/M.O.P PENDANT ORBIT NECKLACE'],\n",
       " ['GOLD M.O.P ORBIT DROP EARRINGS'],\n",
       " ['CRYSTAL HOOP EARRING FLORAL LEAF'],\n",
       " ['COPPER AND BRASS BAG CHARM'],\n",
       " ['SILVER BRACELET W PASTEL FLOWER'],\n",
       " ['PINK GLASS CHUNKY CHARM BRACELET'],\n",
       " ['SILVER M.O.P. ORBIT NECKLACE'],\n",
       " ['GOLD M.O.P. ORBIT NECKLACE'],\n",
       " ['SILVER DROP EARRINGS WITH FLOWER'],\n",
       " ['WHITE  ROSEBUD PEARL BRACELET'],\n",
       " ['CRYSTAL STUD EARRINGS ASSORTED COL '],\n",
       " ['FLOWER GLASS GARLAND NECKL.36\"GREEN'],\n",
       " ['FLOWER GARLAND NECKLACE RED'],\n",
       " ['IVORY SHELL HEART NECKLACE'],\n",
       " ['ANT SILVER PURPLE BOUDICCA RING'],\n",
       " ['ANT SILVER TURQUOISE BOUDICCA RING'],\n",
       " ['PINK MURANO TWIST NECKLACE'],\n",
       " [\"NEW BAROQUE B'FLY NECKLACE BLACK\"],\n",
       " ['PINK CRYSTAL+GLASS BRACELET'],\n",
       " ['TURQUOISE CRYSTAL+GLASS BRACELET'],\n",
       " ['RED BOUDICCA LARGE BRACELET'],\n",
       " ['VINTAGE ROSE BEAD BRACELET BLACK'],\n",
       " ['AMBER GLASS BRACELET HEART CHARMS'],\n",
       " ['PINK BUTTERFLY HANDBAG W BOBBLES'],\n",
       " ['FUSCHIA RETRO BAR STOOL'],\n",
       " ['RIVIERA NECKLACE'],\n",
       " ['SILVER FLOWR PINK SHELL NECKLACE'],\n",
       " ['GREEN PAIR HEART HAIR SLIDES'],\n",
       " ['PINK/WHITE GLASS DEMI CHOKER'],\n",
       " ['SILVER 2 STRAND NECKLACE-LEAF CHARM'],\n",
       " ['5 STRAND GLASS NECKLACE BLACK'],\n",
       " ['FIRE POLISHED GLASS BRACELET GREEN'],\n",
       " ['PURPLE CHUNKY GLASS+BEAD NECKLACE'],\n",
       " ['PINK ROSEBUD & PEARL NECKLACE'],\n",
       " ['ANT SILVER FUSCHIA BOUDICCA RING'],\n",
       " ['ANT SILVER LIME GREEN BOUDICCA RING'],\n",
       " ['RUBY GLASS CLUSTER BRACELET'],\n",
       " ['BLACK ENAMEL FLOWER RING'],\n",
       " ['GREEN ENAMEL FLOWER RING'],\n",
       " ['TURQUOISE HEART OF GLASS BRACELET'],\n",
       " ['TURQ+RED BOUDICCA LARGE BRACELET'],\n",
       " ['VINTAGE ROSE BEAD BRACELET RASPBERR'],\n",
       " ['CLASSIC DIAMANTE NECKLACE JET'],\n",
       " ['MONTANA DIAMOND CLUSTER NECKLACE'],\n",
       " ['DIAMANTE NECKLACE'],\n",
       " ['BAROQUE BUTTERFLY EARRINGS MONTANA'],\n",
       " ['BLACK DIAMOND CLUSTER NECKLACE'],\n",
       " ['VINTAGE ENAMEL & CRYSTAL NECKLACE'],\n",
       " ['ST GEORGE SET OF 10 PARTY LIGHTS'],\n",
       " ['GLASS BEAD HOOP NECKLACE BLACK'],\n",
       " ['DIAMOND LAS VEGAS NECKLACE 45CM'],\n",
       " ['SILVER LARIAT 40CM'],\n",
       " ['GOLD M.O.P ORBIT BRACELET'],\n",
       " ['WHITE WITH METAL BAG CHARM'],\n",
       " ['BROWN KUKUI COCONUT SEED NECKLACE'],\n",
       " ['SPOTTED WHITE NATURAL SEED NECKLACE'],\n",
       " ['RED KUKUI COCONUT SEED NECKLACE'],\n",
       " ['BLUE/NAT SHELL NECKLACE W PENDANT'],\n",
       " ['SILVER/NATURAL SHELL NECKLACE'],\n",
       " ['BLACK VINTAGE  CRYSTAL EARRINGS'],\n",
       " ['SILVER/NAT SHELL NECKLACE W PENDANT'],\n",
       " ['PAIR BUTTERFLY HAIR CLIPS'],\n",
       " ['ANTIQUE MID BLUE FLOWER EARRINGS'],\n",
       " ['BLUE GLASS CHUNKY CHARM BRACELET'],\n",
       " ['PURPLE BOUDICCA LARGE BRACELET'],\n",
       " ['ANTIQUE RASPBERRY FLOWER EARRINGS'],\n",
       " ['WHITE HEART OF GLASS BRACELET'],\n",
       " ['SILVER M.O.P ORBIT DROP EARRINGS'],\n",
       " ['SILVER BLACK ORBIT DROP EARRINGS'],\n",
       " ['ST TROPEZ NECKLACE'],\n",
       " ['GLASS BEAD HOOP NECKLACE AMETHYST'],\n",
       " ['FLOWER GLASS GARLD NECKL36\"TURQUOIS'],\n",
       " ['PINK ROSEBUD PEARL BRACELET'],\n",
       " ['GLASS AND PAINTED BEADS BRACELET TO'],\n",
       " ['FRESHWATER PEARL BRACELET IVORY'],\n",
       " ['WHITE VINT ART DECO CRYSTAL NECKLAC'],\n",
       " ['AMBER GLASS/SHELL/PEARL NECKLACE'],\n",
       " ['AMBER DIAMANTE EXPANDABLE RING'],\n",
       " ['RED ENAMEL FLOWER RING'],\n",
       " ['SILVER/M.O.P PENDANT ORBIT NECKLACE'],\n",
       " ['SILVER/BLACK PENDANT ORBIT NECKLACE'],\n",
       " ['SILVER M.O.P ORBIT BRACELET'],\n",
       " ['GREEN MURANO TWIST NECKLACE'],\n",
       " ['DROP EARRINGS W FLOWER & LEAF'],\n",
       " ['BLACK FINE BEAD NECKLACE W TASSEL'],\n",
       " ['JET BLACK LAS VEGAS BRACELET ROUND'],\n",
       " ['RESIN BRACELET W PASTEL BEADS'],\n",
       " ['LASER CUT MULTI STRAND NECKLACE'],\n",
       " ['TURQ STONE/CRYSTAL EARRINGS'],\n",
       " ['BLACK VINT ART DEC CRYSTAL NECKLACE'],\n",
       " ['WHITE VINTAGE CRYSTAL EARRINGS'],\n",
       " ['DIAMANTE NECKLACE PURPLE'],\n",
       " ['AMBER FINE BEAD NECKLACE W TASSEL'],\n",
       " ['AMBER DROP EARRINGS W LONG BEADS'],\n",
       " ['CRACKED GLAZE NECKLACE RED'],\n",
       " ['MOP PENDANT SHELL NECKLACE'],\n",
       " ['LARGE MINT DIAMANTE HAIRSLIDE'],\n",
       " ['BILI NUT AND WOOD NECKLACE'],\n",
       " ['SNACK TRAY RED GINGHAM']]"
      ]
     },
     "execution_count": 183,
     "metadata": {},
     "output_type": "execute_result"
    }
   ],
   "source": [
    "# Jewelry items\n",
    "list(vis_embedding[(vis_embedding['x']>9.5)&(vis_embedding['y']<0.5)]['label'])"
   ]
  },
  {
   "cell_type": "markdown",
   "metadata": {},
   "source": [
    "### Item2vec based Recommender System"
   ]
  },
  {
   "cell_type": "markdown",
   "metadata": {},
   "source": [
    "In item2vec model it can be imagined that each “item” is a “word”, and the buying history of a user is a \"sentence”\n"
   ]
  },
  {
   "cell_type": "code",
   "execution_count": 107,
   "metadata": {},
   "outputs": [
    {
     "name": "stderr",
     "output_type": "stream",
     "text": [
      "100%|████████████████████████████████████████████████████████████████████████████| 5878/5878 [00:02<00:00, 2479.81it/s]\n"
     ]
    }
   ],
   "source": [
    "# list to capture purchase history of the customers\n",
    "#create sequences of purchases made by the customers in the dataset\n",
    "train_item2vec = []\n",
    "\n",
    "# populate the list with the product codes\n",
    "for i in tqdm(set(train_i2v[\"Customer ID\"]), position=0, leave=True):\n",
    "    temp = train_i2v[train_i2v[\"Customer ID\"] == i][\"Transaction\"].tolist()\n",
    "    temp2 = [item for sublist in temp for item in sublist]\n",
    "    train_item2vec.append(temp2)"
   ]
  },
  {
   "cell_type": "code",
   "execution_count": 108,
   "metadata": {},
   "outputs": [
    {
     "data": {
      "text/plain": [
       "10693"
      ]
     },
     "execution_count": 108,
     "metadata": {},
     "output_type": "execute_result"
    }
   ],
   "source": [
    "# max lenght of a sentence\n",
    "max_sent_item2vec = len(max(train_item2vec, key=len))\n",
    "max_sent_item2vec"
   ]
  },
  {
   "cell_type": "code",
   "execution_count": 109,
   "metadata": {},
   "outputs": [
    {
     "name": "stdout",
     "output_type": "stream",
     "text": [
      "Time to build vocab: 0.01 mins\n",
      "Time to train the model: 12.83 mins\n",
      "Word2Vec(vocab=4379, size=150, alpha=0.03)\n"
     ]
    }
   ],
   "source": [
    "model_item2vec,word_vectors_item2vec = word2vec_model(train_item2vec,150,max_sent_item2vec,10,0.001)"
   ]
  },
  {
   "cell_type": "code",
   "execution_count": 110,
   "metadata": {},
   "outputs": [
    {
     "data": {
      "text/plain": [
       "0.24179967159277505"
      ]
     },
     "execution_count": 110,
     "metadata": {},
     "output_type": "execute_result"
    }
   ],
   "source": [
    "precision_5_item2vec = calculate_precision_at_k(test_model,model_item2vec,word_vectors_item2vec,5)\n",
    "precision_5_item2vec"
   ]
  },
  {
   "cell_type": "code",
   "execution_count": 111,
   "metadata": {},
   "outputs": [
    {
     "data": {
      "text/plain": [
       "0.2966699507389163"
      ]
     },
     "execution_count": 111,
     "metadata": {},
     "output_type": "execute_result"
    }
   ],
   "source": [
    "precision_10_item2vec = calculate_precision_at_k(test_model,model_item2vec,word_vectors_item2vec,10)\n",
    "precision_10_item2vec"
   ]
  },
  {
   "cell_type": "markdown",
   "metadata": {},
   "source": [
    "### Memory-based Item-based Collaborative Filtering"
   ]
  },
  {
   "cell_type": "markdown",
   "metadata": {},
   "source": [
    "Create a Customer-Item Matrix"
   ]
  },
  {
   "cell_type": "code",
   "execution_count": 88,
   "metadata": {},
   "outputs": [],
   "source": [
    "customer_item_matrix = train_cf.pivot_table(index='Customer ID',columns='StockCode',values='Quantity',aggfunc='sum')"
   ]
  },
  {
   "cell_type": "code",
   "execution_count": 89,
   "metadata": {},
   "outputs": [],
   "source": [
    "# One Hot Encoding: We apply lambda function to convert anything above zero to 1 and zero to 0\n",
    "customer_item_matrix = customer_item_matrix.applymap(lambda x: 1 if x>0 else 0)"
   ]
  },
  {
   "cell_type": "code",
   "execution_count": 90,
   "metadata": {},
   "outputs": [],
   "source": [
    "item_item_sim_matrix = pd.DataFrame(cosine_similarity(customer_item_matrix.T))"
   ]
  },
  {
   "cell_type": "code",
   "execution_count": 91,
   "metadata": {},
   "outputs": [],
   "source": [
    "item_item_sim_matrix.columns = customer_item_matrix.T.index\n",
    "item_item_sim_matrix['StockCode'] = customer_item_matrix.T.index\n",
    "item_item_sim_matrix = item_item_sim_matrix.set_index('StockCode')"
   ]
  },
  {
   "cell_type": "code",
   "execution_count": 92,
   "metadata": {},
   "outputs": [
    {
     "data": {
      "text/html": [
       "<div>\n",
       "<style scoped>\n",
       "    .dataframe tbody tr th:only-of-type {\n",
       "        vertical-align: middle;\n",
       "    }\n",
       "\n",
       "    .dataframe tbody tr th {\n",
       "        vertical-align: top;\n",
       "    }\n",
       "\n",
       "    .dataframe thead th {\n",
       "        text-align: right;\n",
       "    }\n",
       "</style>\n",
       "<table border=\"1\" class=\"dataframe\">\n",
       "  <thead>\n",
       "    <tr style=\"text-align: right;\">\n",
       "      <th>StockCode</th>\n",
       "      <th>10002</th>\n",
       "      <th>10080</th>\n",
       "      <th>10109</th>\n",
       "      <th>10120</th>\n",
       "      <th>10123C</th>\n",
       "      <th>10123G</th>\n",
       "      <th>10124A</th>\n",
       "      <th>10124G</th>\n",
       "      <th>10125</th>\n",
       "      <th>10133</th>\n",
       "      <th>...</th>\n",
       "      <th>90214Y</th>\n",
       "      <th>90214Z</th>\n",
       "      <th>ADJUST</th>\n",
       "      <th>ADJUST2</th>\n",
       "      <th>C2</th>\n",
       "      <th>D</th>\n",
       "      <th>DOT</th>\n",
       "      <th>M</th>\n",
       "      <th>PADS</th>\n",
       "      <th>SP1002</th>\n",
       "    </tr>\n",
       "    <tr>\n",
       "      <th>StockCode</th>\n",
       "      <th></th>\n",
       "      <th></th>\n",
       "      <th></th>\n",
       "      <th></th>\n",
       "      <th></th>\n",
       "      <th></th>\n",
       "      <th></th>\n",
       "      <th></th>\n",
       "      <th></th>\n",
       "      <th></th>\n",
       "      <th></th>\n",
       "      <th></th>\n",
       "      <th></th>\n",
       "      <th></th>\n",
       "      <th></th>\n",
       "      <th></th>\n",
       "      <th></th>\n",
       "      <th></th>\n",
       "      <th></th>\n",
       "      <th></th>\n",
       "      <th></th>\n",
       "    </tr>\n",
       "  </thead>\n",
       "  <tbody>\n",
       "    <tr>\n",
       "      <th>10002</th>\n",
       "      <td>1.000000</td>\n",
       "      <td>0.033296</td>\n",
       "      <td>0.0</td>\n",
       "      <td>0.079731</td>\n",
       "      <td>0.075023</td>\n",
       "      <td>0.045083</td>\n",
       "      <td>0.147242</td>\n",
       "      <td>0.078087</td>\n",
       "      <td>0.102240</td>\n",
       "      <td>0.064848</td>\n",
       "      <td>...</td>\n",
       "      <td>0.0</td>\n",
       "      <td>0.034922</td>\n",
       "      <td>0.046852</td>\n",
       "      <td>0.045083</td>\n",
       "      <td>0.011641</td>\n",
       "      <td>0.0</td>\n",
       "      <td>0.0</td>\n",
       "      <td>0.140313</td>\n",
       "      <td>0.0</td>\n",
       "      <td>0.110432</td>\n",
       "    </tr>\n",
       "    <tr>\n",
       "      <th>10080</th>\n",
       "      <td>0.033296</td>\n",
       "      <td>1.000000</td>\n",
       "      <td>0.0</td>\n",
       "      <td>0.031099</td>\n",
       "      <td>0.034139</td>\n",
       "      <td>0.061546</td>\n",
       "      <td>0.050252</td>\n",
       "      <td>0.000000</td>\n",
       "      <td>0.069786</td>\n",
       "      <td>0.035411</td>\n",
       "      <td>...</td>\n",
       "      <td>0.0</td>\n",
       "      <td>0.000000</td>\n",
       "      <td>0.000000</td>\n",
       "      <td>0.000000</td>\n",
       "      <td>0.000000</td>\n",
       "      <td>0.0</td>\n",
       "      <td>0.0</td>\n",
       "      <td>0.051770</td>\n",
       "      <td>0.0</td>\n",
       "      <td>0.000000</td>\n",
       "    </tr>\n",
       "    <tr>\n",
       "      <th>10109</th>\n",
       "      <td>0.000000</td>\n",
       "      <td>0.000000</td>\n",
       "      <td>1.0</td>\n",
       "      <td>0.000000</td>\n",
       "      <td>0.000000</td>\n",
       "      <td>0.000000</td>\n",
       "      <td>0.000000</td>\n",
       "      <td>0.000000</td>\n",
       "      <td>0.000000</td>\n",
       "      <td>0.083045</td>\n",
       "      <td>...</td>\n",
       "      <td>0.0</td>\n",
       "      <td>0.000000</td>\n",
       "      <td>0.000000</td>\n",
       "      <td>0.000000</td>\n",
       "      <td>0.000000</td>\n",
       "      <td>0.0</td>\n",
       "      <td>0.0</td>\n",
       "      <td>0.048564</td>\n",
       "      <td>0.0</td>\n",
       "      <td>0.000000</td>\n",
       "    </tr>\n",
       "    <tr>\n",
       "      <th>10120</th>\n",
       "      <td>0.079731</td>\n",
       "      <td>0.031099</td>\n",
       "      <td>0.0</td>\n",
       "      <td>1.000000</td>\n",
       "      <td>0.046714</td>\n",
       "      <td>0.084215</td>\n",
       "      <td>0.068761</td>\n",
       "      <td>0.048622</td>\n",
       "      <td>0.063661</td>\n",
       "      <td>0.036340</td>\n",
       "      <td>...</td>\n",
       "      <td>0.0</td>\n",
       "      <td>0.000000</td>\n",
       "      <td>0.029173</td>\n",
       "      <td>0.000000</td>\n",
       "      <td>0.000000</td>\n",
       "      <td>0.0</td>\n",
       "      <td>0.0</td>\n",
       "      <td>0.092090</td>\n",
       "      <td>0.0</td>\n",
       "      <td>0.103142</td>\n",
       "    </tr>\n",
       "    <tr>\n",
       "      <th>10123C</th>\n",
       "      <td>0.075023</td>\n",
       "      <td>0.034139</td>\n",
       "      <td>0.0</td>\n",
       "      <td>0.046714</td>\n",
       "      <td>1.000000</td>\n",
       "      <td>0.323575</td>\n",
       "      <td>0.075485</td>\n",
       "      <td>0.053376</td>\n",
       "      <td>0.157243</td>\n",
       "      <td>0.013298</td>\n",
       "      <td>...</td>\n",
       "      <td>0.0</td>\n",
       "      <td>0.000000</td>\n",
       "      <td>0.032026</td>\n",
       "      <td>0.000000</td>\n",
       "      <td>0.000000</td>\n",
       "      <td>0.0</td>\n",
       "      <td>0.0</td>\n",
       "      <td>0.085542</td>\n",
       "      <td>0.0</td>\n",
       "      <td>0.000000</td>\n",
       "    </tr>\n",
       "  </tbody>\n",
       "</table>\n",
       "<p>5 rows × 4624 columns</p>\n",
       "</div>"
      ],
      "text/plain": [
       "StockCode     10002     10080  10109     10120    10123C    10123G    10124A  \\\n",
       "StockCode                                                                      \n",
       "10002      1.000000  0.033296    0.0  0.079731  0.075023  0.045083  0.147242   \n",
       "10080      0.033296  1.000000    0.0  0.031099  0.034139  0.061546  0.050252   \n",
       "10109      0.000000  0.000000    1.0  0.000000  0.000000  0.000000  0.000000   \n",
       "10120      0.079731  0.031099    0.0  1.000000  0.046714  0.084215  0.068761   \n",
       "10123C     0.075023  0.034139    0.0  0.046714  1.000000  0.323575  0.075485   \n",
       "\n",
       "StockCode    10124G     10125     10133  ...  90214Y    90214Z    ADJUST  \\\n",
       "StockCode                                ...                               \n",
       "10002      0.078087  0.102240  0.064848  ...     0.0  0.034922  0.046852   \n",
       "10080      0.000000  0.069786  0.035411  ...     0.0  0.000000  0.000000   \n",
       "10109      0.000000  0.000000  0.083045  ...     0.0  0.000000  0.000000   \n",
       "10120      0.048622  0.063661  0.036340  ...     0.0  0.000000  0.029173   \n",
       "10123C     0.053376  0.157243  0.013298  ...     0.0  0.000000  0.032026   \n",
       "\n",
       "StockCode   ADJUST2        C2    D  DOT         M  PADS    SP1002  \n",
       "StockCode                                                          \n",
       "10002      0.045083  0.011641  0.0  0.0  0.140313   0.0  0.110432  \n",
       "10080      0.000000  0.000000  0.0  0.0  0.051770   0.0  0.000000  \n",
       "10109      0.000000  0.000000  0.0  0.0  0.048564   0.0  0.000000  \n",
       "10120      0.000000  0.000000  0.0  0.0  0.092090   0.0  0.103142  \n",
       "10123C     0.000000  0.000000  0.0  0.0  0.085542   0.0  0.000000  \n",
       "\n",
       "[5 rows x 4624 columns]"
      ]
     },
     "execution_count": 92,
     "metadata": {},
     "output_type": "execute_result"
    }
   ],
   "source": [
    "item_item_sim_matrix.head()"
   ]
  },
  {
   "cell_type": "code",
   "execution_count": 126,
   "metadata": {},
   "outputs": [
    {
     "data": {
      "text/plain": [
       "0.25784644465155354"
      ]
     },
     "execution_count": 126,
     "metadata": {},
     "output_type": "execute_result"
    }
   ],
   "source": [
    "precision_5_CF = calculate_precision_at_k_CF(test_model,item_item_sim_matrix,5)\n",
    "precision_5_CF"
   ]
  },
  {
   "cell_type": "code",
   "execution_count": 127,
   "metadata": {},
   "outputs": [
    {
     "data": {
      "text/plain": [
       "0.3172444572793741"
      ]
     },
     "execution_count": 127,
     "metadata": {},
     "output_type": "execute_result"
    }
   ],
   "source": [
    "precision_10_CF = calculate_precision_at_k_CF(test_model,item_item_sim_matrix,10)\n",
    "precision_10_CF"
   ]
  },
  {
   "cell_type": "markdown",
   "metadata": {},
   "source": [
    "### Results"
   ]
  },
  {
   "cell_type": "code",
   "execution_count": 140,
   "metadata": {},
   "outputs": [
    {
     "data": {
      "text/html": [
       "<div>\n",
       "<style scoped>\n",
       "    .dataframe tbody tr th:only-of-type {\n",
       "        vertical-align: middle;\n",
       "    }\n",
       "\n",
       "    .dataframe tbody tr th {\n",
       "        vertical-align: top;\n",
       "    }\n",
       "\n",
       "    .dataframe thead th {\n",
       "        text-align: right;\n",
       "    }\n",
       "</style>\n",
       "<table border=\"1\" class=\"dataframe\">\n",
       "  <thead>\n",
       "    <tr style=\"text-align: right;\">\n",
       "      <th></th>\n",
       "      <th>Model</th>\n",
       "      <th>Precision@5</th>\n",
       "      <th>Precision@10</th>\n",
       "    </tr>\n",
       "  </thead>\n",
       "  <tbody>\n",
       "    <tr>\n",
       "      <th>0</th>\n",
       "      <td>Word2Vec topk</td>\n",
       "      <td>0.258312</td>\n",
       "      <td>0.319199</td>\n",
       "    </tr>\n",
       "    <tr>\n",
       "      <th>0</th>\n",
       "      <td>Word2Vec aggregatek</td>\n",
       "      <td>0.091783</td>\n",
       "      <td>0.134857</td>\n",
       "    </tr>\n",
       "    <tr>\n",
       "      <th>0</th>\n",
       "      <td>Item2Vec</td>\n",
       "      <td>0.241800</td>\n",
       "      <td>0.296670</td>\n",
       "    </tr>\n",
       "    <tr>\n",
       "      <th>0</th>\n",
       "      <td>CF Item Based</td>\n",
       "      <td>0.257846</td>\n",
       "      <td>0.317244</td>\n",
       "    </tr>\n",
       "  </tbody>\n",
       "</table>\n",
       "</div>"
      ],
      "text/plain": [
       "                 Model  Precision@5  Precision@10\n",
       "0        Word2Vec topk     0.258312      0.319199\n",
       "0  Word2Vec aggregatek     0.091783      0.134857\n",
       "0             Item2Vec     0.241800      0.296670\n",
       "0        CF Item Based     0.257846      0.317244"
      ]
     },
     "execution_count": 140,
     "metadata": {},
     "output_type": "execute_result"
    }
   ],
   "source": [
    "res = pd.DataFrame([], columns = ['Model','Precision@5','Precision@10'])\n",
    "res = res.append(pd.DataFrame([['Word2Vec topk',precision_5_word2vec,precision_10_word2vec]],columns = list(res)))\n",
    "res = res.append(pd.DataFrame([['Word2Vec aggregatek',precision2_5_word2vec,precision2_10_word2vec]],columns = list(res)))\n",
    "res = res.append(pd.DataFrame([['Item2Vec',precision_5_item2vec,precision_10_item2vec]],columns = list(res)))\n",
    "res = res.append(pd.DataFrame([['CF Item Based',precision_5_CF,precision_10_CF]],columns = list(res)))\n",
    "\n",
    "res"
   ]
  },
  {
   "cell_type": "code",
   "execution_count": null,
   "metadata": {},
   "outputs": [],
   "source": []
  }
 ],
 "metadata": {
  "kernelspec": {
   "display_name": "Python 3",
   "language": "python",
   "name": "python3"
  },
  "language_info": {
   "codemirror_mode": {
    "name": "ipython",
    "version": 3
   },
   "file_extension": ".py",
   "mimetype": "text/x-python",
   "name": "python",
   "nbconvert_exporter": "python",
   "pygments_lexer": "ipython3",
   "version": "3.7.6"
  }
 },
 "nbformat": 4,
 "nbformat_minor": 2
}
